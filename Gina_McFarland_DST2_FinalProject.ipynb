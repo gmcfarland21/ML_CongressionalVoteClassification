{
 "cells": [
  {
   "cell_type": "code",
   "execution_count": 1,
   "id": "9c0561b0",
   "metadata": {},
   "outputs": [],
   "source": [
    "# Gina McFarland\n",
    "# DST2 Final Project\n",
    "# Autumn 2021"
   ]
  },
  {
   "cell_type": "markdown",
   "id": "b177398c",
   "metadata": {},
   "source": [
    "### Research Question:"
   ]
  },
  {
   "cell_type": "markdown",
   "id": "c16871a4",
   "metadata": {},
   "source": [
    "#### Which supervised learning algorithm most accurately classifies Republicans and Democrats based on voting records? This is important because it is useful to see how people group themselves based on ideas. Additionally, it is useful to see what types of ideas people avoid due to conflicts of interest or reluctance to make a position known. This is shown by the ‘?’.\n",
    "- Models that will be used: Logistic Regression, Neural Network Classification, Random Forest Classification, Support Vector Classification, and Xgboost Classification."
   ]
  },
  {
   "cell_type": "code",
   "execution_count": 2,
   "id": "02036bb9",
   "metadata": {},
   "outputs": [],
   "source": [
    "import pandas as pd\n",
    "import numpy as np\n",
    "import matplotlib.pyplot as plt\n",
    "import seaborn as sns\n",
    "from scipy import stats\n",
    "from sklearn.ensemble import RandomForestClassifier\n",
    "from sklearn.model_selection import train_test_split\n",
    "from sklearn.metrics import classification_report, confusion_matrix, \\\n",
    "  accuracy_score, precision_score, recall_score, f1_score\n",
    "from sklearn.model_selection import GridSearchCV\n",
    "from sklearn.linear_model import LogisticRegression\n",
    "from sklearn.svm import SVC\n",
    "from sklearn.neural_network import MLPClassifier\n",
    "from xgboost import XGBClassifier\n",
    "from prettytable import PrettyTable"
   ]
  },
  {
   "cell_type": "markdown",
   "id": "8145962b",
   "metadata": {},
   "source": [
    "Data Description:\n",
    "     Title: 1984 United States Congressional Voting Records Database\n",
    "\n",
    "2. Source Information:\n",
    "    (a) Source:  Congressional Quarterly Almanac, 98th Congress, \n",
    "                 2nd session 1984, Volume XL: Congressional Quarterly Inc. \n",
    "                 Washington, D.C., 1985.\n",
    "    (b) Donor: Jeff Schlimmer (Jeffrey.Schlimmer@a.gp.cs.cmu.edu)\n",
    "    (c) Date: 27 April 1987 "
   ]
  },
  {
   "cell_type": "markdown",
   "id": "daffa0d2",
   "metadata": {},
   "source": [
    "-   1. Class Name: 2 (democrat, republican)\n",
    "-   2. handicapped-infants: 2 (y,n)\n",
    "-   3. water-project-cost-sharing: 2 (y,n)\n",
    "-   4. adoption-of-the-budget-resolution: 2 (y,n)\n",
    "-   5. physician-fee-freeze: 2 (y,n)\n",
    "-   6. el-salvador-aid: 2 (y,n)\n",
    "-   7. religious-groups-in-schools: 2 (y,n)\n",
    "-   8. anti-satellite-test-ban: 2 (y,n)\n",
    "-   9. aid-to-nicaraguan-contras: 2 (y,n)\n",
    "-  10. mx-missile: 2 (y,n)\n",
    "-  11. immigration: 2 (y,n)\n",
    "-  12. synfuels-corporation-cutback: 2 (y,n)\n",
    "-  13. education-spending: 2 (y,n)\n",
    "-  14. superfund-right-to-sue: 2 (y,n)\n",
    "-  15. crime: 2 (y,n)\n",
    "-  16. duty-free-exports: 2 (y,n)\n",
    "-  17. export-administration-act-south-africa"
   ]
  },
  {
   "cell_type": "code",
   "execution_count": 3,
   "id": "ca6ea172",
   "metadata": {},
   "outputs": [],
   "source": [
    "column_names = ['class_name', 'handicapped_infants', 'water_sharing','budget_resolution',\\\n",
    "                'physician_fee', 'el_salvador_aid','religious_schools','anti_sat_test', \\\n",
    "                'aid_nicaraguan', 'mx_missile', 'immigration','synfuels_cutback', 'ed_spending',\n",
    "                'superfund_sue', 'crime', 'duty_free_ex', 'south_africa']"
   ]
  },
  {
   "cell_type": "code",
   "execution_count": 4,
   "id": "ee23379f",
   "metadata": {},
   "outputs": [],
   "source": [
    "dir = 'C:\\\\Users\\\\Gina\\\\Documents\\\\University of Denver\\\\4448 (DS Tools 2)\\\\Project\\\\'\n",
    "congress_df = pd.read_csv(dir+'house-votes-84.data', header=None, names = column_names)"
   ]
  },
  {
   "cell_type": "code",
   "execution_count": 5,
   "id": "72c3a334",
   "metadata": {},
   "outputs": [
    {
     "data": {
      "text/html": [
       "<div>\n",
       "<style scoped>\n",
       "    .dataframe tbody tr th:only-of-type {\n",
       "        vertical-align: middle;\n",
       "    }\n",
       "\n",
       "    .dataframe tbody tr th {\n",
       "        vertical-align: top;\n",
       "    }\n",
       "\n",
       "    .dataframe thead th {\n",
       "        text-align: right;\n",
       "    }\n",
       "</style>\n",
       "<table border=\"1\" class=\"dataframe\">\n",
       "  <thead>\n",
       "    <tr style=\"text-align: right;\">\n",
       "      <th></th>\n",
       "      <th>class_name</th>\n",
       "      <th>handicapped_infants</th>\n",
       "      <th>water_sharing</th>\n",
       "      <th>budget_resolution</th>\n",
       "      <th>physician_fee</th>\n",
       "      <th>el_salvador_aid</th>\n",
       "      <th>religious_schools</th>\n",
       "      <th>anti_sat_test</th>\n",
       "      <th>aid_nicaraguan</th>\n",
       "      <th>mx_missile</th>\n",
       "      <th>immigration</th>\n",
       "      <th>synfuels_cutback</th>\n",
       "      <th>ed_spending</th>\n",
       "      <th>superfund_sue</th>\n",
       "      <th>crime</th>\n",
       "      <th>duty_free_ex</th>\n",
       "      <th>south_africa</th>\n",
       "    </tr>\n",
       "  </thead>\n",
       "  <tbody>\n",
       "    <tr>\n",
       "      <th>0</th>\n",
       "      <td>republican</td>\n",
       "      <td>n</td>\n",
       "      <td>y</td>\n",
       "      <td>n</td>\n",
       "      <td>y</td>\n",
       "      <td>y</td>\n",
       "      <td>y</td>\n",
       "      <td>n</td>\n",
       "      <td>n</td>\n",
       "      <td>n</td>\n",
       "      <td>y</td>\n",
       "      <td>?</td>\n",
       "      <td>y</td>\n",
       "      <td>y</td>\n",
       "      <td>y</td>\n",
       "      <td>n</td>\n",
       "      <td>y</td>\n",
       "    </tr>\n",
       "    <tr>\n",
       "      <th>1</th>\n",
       "      <td>republican</td>\n",
       "      <td>n</td>\n",
       "      <td>y</td>\n",
       "      <td>n</td>\n",
       "      <td>y</td>\n",
       "      <td>y</td>\n",
       "      <td>y</td>\n",
       "      <td>n</td>\n",
       "      <td>n</td>\n",
       "      <td>n</td>\n",
       "      <td>n</td>\n",
       "      <td>n</td>\n",
       "      <td>y</td>\n",
       "      <td>y</td>\n",
       "      <td>y</td>\n",
       "      <td>n</td>\n",
       "      <td>?</td>\n",
       "    </tr>\n",
       "    <tr>\n",
       "      <th>2</th>\n",
       "      <td>democrat</td>\n",
       "      <td>?</td>\n",
       "      <td>y</td>\n",
       "      <td>y</td>\n",
       "      <td>?</td>\n",
       "      <td>y</td>\n",
       "      <td>y</td>\n",
       "      <td>n</td>\n",
       "      <td>n</td>\n",
       "      <td>n</td>\n",
       "      <td>n</td>\n",
       "      <td>y</td>\n",
       "      <td>n</td>\n",
       "      <td>y</td>\n",
       "      <td>y</td>\n",
       "      <td>n</td>\n",
       "      <td>n</td>\n",
       "    </tr>\n",
       "    <tr>\n",
       "      <th>3</th>\n",
       "      <td>democrat</td>\n",
       "      <td>n</td>\n",
       "      <td>y</td>\n",
       "      <td>y</td>\n",
       "      <td>n</td>\n",
       "      <td>?</td>\n",
       "      <td>y</td>\n",
       "      <td>n</td>\n",
       "      <td>n</td>\n",
       "      <td>n</td>\n",
       "      <td>n</td>\n",
       "      <td>y</td>\n",
       "      <td>n</td>\n",
       "      <td>y</td>\n",
       "      <td>n</td>\n",
       "      <td>n</td>\n",
       "      <td>y</td>\n",
       "    </tr>\n",
       "    <tr>\n",
       "      <th>4</th>\n",
       "      <td>democrat</td>\n",
       "      <td>y</td>\n",
       "      <td>y</td>\n",
       "      <td>y</td>\n",
       "      <td>n</td>\n",
       "      <td>y</td>\n",
       "      <td>y</td>\n",
       "      <td>n</td>\n",
       "      <td>n</td>\n",
       "      <td>n</td>\n",
       "      <td>n</td>\n",
       "      <td>y</td>\n",
       "      <td>?</td>\n",
       "      <td>y</td>\n",
       "      <td>y</td>\n",
       "      <td>y</td>\n",
       "      <td>y</td>\n",
       "    </tr>\n",
       "  </tbody>\n",
       "</table>\n",
       "</div>"
      ],
      "text/plain": [
       "   class_name handicapped_infants water_sharing budget_resolution  \\\n",
       "0  republican                   n             y                 n   \n",
       "1  republican                   n             y                 n   \n",
       "2    democrat                   ?             y                 y   \n",
       "3    democrat                   n             y                 y   \n",
       "4    democrat                   y             y                 y   \n",
       "\n",
       "  physician_fee el_salvador_aid religious_schools anti_sat_test  \\\n",
       "0             y               y                 y             n   \n",
       "1             y               y                 y             n   \n",
       "2             ?               y                 y             n   \n",
       "3             n               ?                 y             n   \n",
       "4             n               y                 y             n   \n",
       "\n",
       "  aid_nicaraguan mx_missile immigration synfuels_cutback ed_spending  \\\n",
       "0              n          n           y                ?           y   \n",
       "1              n          n           n                n           y   \n",
       "2              n          n           n                y           n   \n",
       "3              n          n           n                y           n   \n",
       "4              n          n           n                y           ?   \n",
       "\n",
       "  superfund_sue crime duty_free_ex south_africa  \n",
       "0             y     y            n            y  \n",
       "1             y     y            n            ?  \n",
       "2             y     y            n            n  \n",
       "3             y     n            n            y  \n",
       "4             y     y            y            y  "
      ]
     },
     "execution_count": 5,
     "metadata": {},
     "output_type": "execute_result"
    }
   ],
   "source": [
    "congress_df.head()"
   ]
  },
  {
   "cell_type": "markdown",
   "id": "e62d343e",
   "metadata": {},
   "source": [
    "### Data Preprocessing"
   ]
  },
  {
   "cell_type": "code",
   "execution_count": 6,
   "id": "c6fc9a0a",
   "metadata": {},
   "outputs": [],
   "source": [
    "# change values: n = 0, y = 1, ? = u\n",
    "def map_columns(s): # update democrat, republican to 0,1 later for clarity in next steps\n",
    "    return s.map({'n':0,'y': 1,'?': np.nan, 'republican':'republican', 'democrat':'democrat'})"
   ]
  },
  {
   "cell_type": "code",
   "execution_count": 7,
   "id": "2ae3c97c",
   "metadata": {},
   "outputs": [],
   "source": [
    "congress_df = congress_df.apply(map_columns) # map values across all columns"
   ]
  },
  {
   "cell_type": "code",
   "execution_count": 8,
   "id": "b370f8d0",
   "metadata": {},
   "outputs": [
    {
     "data": {
      "text/html": [
       "<div>\n",
       "<style scoped>\n",
       "    .dataframe tbody tr th:only-of-type {\n",
       "        vertical-align: middle;\n",
       "    }\n",
       "\n",
       "    .dataframe tbody tr th {\n",
       "        vertical-align: top;\n",
       "    }\n",
       "\n",
       "    .dataframe thead th {\n",
       "        text-align: right;\n",
       "    }\n",
       "</style>\n",
       "<table border=\"1\" class=\"dataframe\">\n",
       "  <thead>\n",
       "    <tr style=\"text-align: right;\">\n",
       "      <th></th>\n",
       "      <th>class_name</th>\n",
       "      <th>handicapped_infants</th>\n",
       "      <th>water_sharing</th>\n",
       "      <th>budget_resolution</th>\n",
       "      <th>physician_fee</th>\n",
       "      <th>el_salvador_aid</th>\n",
       "      <th>religious_schools</th>\n",
       "      <th>anti_sat_test</th>\n",
       "      <th>aid_nicaraguan</th>\n",
       "      <th>mx_missile</th>\n",
       "      <th>immigration</th>\n",
       "      <th>synfuels_cutback</th>\n",
       "      <th>ed_spending</th>\n",
       "      <th>superfund_sue</th>\n",
       "      <th>crime</th>\n",
       "      <th>duty_free_ex</th>\n",
       "      <th>south_africa</th>\n",
       "    </tr>\n",
       "  </thead>\n",
       "  <tbody>\n",
       "    <tr>\n",
       "      <th>0</th>\n",
       "      <td>republican</td>\n",
       "      <td>0</td>\n",
       "      <td>1</td>\n",
       "      <td>0</td>\n",
       "      <td>1</td>\n",
       "      <td>1</td>\n",
       "      <td>1</td>\n",
       "      <td>0</td>\n",
       "      <td>0</td>\n",
       "      <td>0</td>\n",
       "      <td>1</td>\n",
       "      <td>NaN</td>\n",
       "      <td>1</td>\n",
       "      <td>1</td>\n",
       "      <td>1</td>\n",
       "      <td>0</td>\n",
       "      <td>1</td>\n",
       "    </tr>\n",
       "    <tr>\n",
       "      <th>1</th>\n",
       "      <td>republican</td>\n",
       "      <td>0</td>\n",
       "      <td>1</td>\n",
       "      <td>0</td>\n",
       "      <td>1</td>\n",
       "      <td>1</td>\n",
       "      <td>1</td>\n",
       "      <td>0</td>\n",
       "      <td>0</td>\n",
       "      <td>0</td>\n",
       "      <td>0</td>\n",
       "      <td>0</td>\n",
       "      <td>1</td>\n",
       "      <td>1</td>\n",
       "      <td>1</td>\n",
       "      <td>0</td>\n",
       "      <td>NaN</td>\n",
       "    </tr>\n",
       "    <tr>\n",
       "      <th>2</th>\n",
       "      <td>democrat</td>\n",
       "      <td>NaN</td>\n",
       "      <td>1</td>\n",
       "      <td>1</td>\n",
       "      <td>NaN</td>\n",
       "      <td>1</td>\n",
       "      <td>1</td>\n",
       "      <td>0</td>\n",
       "      <td>0</td>\n",
       "      <td>0</td>\n",
       "      <td>0</td>\n",
       "      <td>1</td>\n",
       "      <td>0</td>\n",
       "      <td>1</td>\n",
       "      <td>1</td>\n",
       "      <td>0</td>\n",
       "      <td>0</td>\n",
       "    </tr>\n",
       "    <tr>\n",
       "      <th>3</th>\n",
       "      <td>democrat</td>\n",
       "      <td>0</td>\n",
       "      <td>1</td>\n",
       "      <td>1</td>\n",
       "      <td>0</td>\n",
       "      <td>NaN</td>\n",
       "      <td>1</td>\n",
       "      <td>0</td>\n",
       "      <td>0</td>\n",
       "      <td>0</td>\n",
       "      <td>0</td>\n",
       "      <td>1</td>\n",
       "      <td>0</td>\n",
       "      <td>1</td>\n",
       "      <td>0</td>\n",
       "      <td>0</td>\n",
       "      <td>1</td>\n",
       "    </tr>\n",
       "    <tr>\n",
       "      <th>4</th>\n",
       "      <td>democrat</td>\n",
       "      <td>1</td>\n",
       "      <td>1</td>\n",
       "      <td>1</td>\n",
       "      <td>0</td>\n",
       "      <td>1</td>\n",
       "      <td>1</td>\n",
       "      <td>0</td>\n",
       "      <td>0</td>\n",
       "      <td>0</td>\n",
       "      <td>0</td>\n",
       "      <td>1</td>\n",
       "      <td>NaN</td>\n",
       "      <td>1</td>\n",
       "      <td>1</td>\n",
       "      <td>1</td>\n",
       "      <td>1</td>\n",
       "    </tr>\n",
       "  </tbody>\n",
       "</table>\n",
       "</div>"
      ],
      "text/plain": [
       "   class_name handicapped_infants water_sharing budget_resolution  \\\n",
       "0  republican                   0             1                 0   \n",
       "1  republican                   0             1                 0   \n",
       "2    democrat                 NaN             1                 1   \n",
       "3    democrat                   0             1                 1   \n",
       "4    democrat                   1             1                 1   \n",
       "\n",
       "  physician_fee el_salvador_aid religious_schools anti_sat_test  \\\n",
       "0             1               1                 1             0   \n",
       "1             1               1                 1             0   \n",
       "2           NaN               1                 1             0   \n",
       "3             0             NaN                 1             0   \n",
       "4             0               1                 1             0   \n",
       "\n",
       "  aid_nicaraguan mx_missile immigration synfuels_cutback ed_spending  \\\n",
       "0              0          0           1              NaN           1   \n",
       "1              0          0           0                0           1   \n",
       "2              0          0           0                1           0   \n",
       "3              0          0           0                1           0   \n",
       "4              0          0           0                1         NaN   \n",
       "\n",
       "  superfund_sue crime duty_free_ex south_africa  \n",
       "0             1     1            0            1  \n",
       "1             1     1            0          NaN  \n",
       "2             1     1            0            0  \n",
       "3             1     0            0            1  \n",
       "4             1     1            1            1  "
      ]
     },
     "execution_count": 8,
     "metadata": {},
     "output_type": "execute_result"
    }
   ],
   "source": [
    "congress_df.head()"
   ]
  },
  {
   "cell_type": "code",
   "execution_count": 9,
   "id": "56d8d157",
   "metadata": {},
   "outputs": [],
   "source": [
    "# move target, class_name to end of dataframe"
   ]
  },
  {
   "cell_type": "code",
   "execution_count": 10,
   "id": "3de3ab0d",
   "metadata": {},
   "outputs": [],
   "source": [
    "name_list = congress_df.columns.tolist()"
   ]
  },
  {
   "cell_type": "code",
   "execution_count": 11,
   "id": "f1ab025d",
   "metadata": {},
   "outputs": [
    {
     "data": {
      "text/plain": [
       "'class_name'"
      ]
     },
     "execution_count": 11,
     "metadata": {},
     "output_type": "execute_result"
    }
   ],
   "source": [
    "name_list.pop(0)"
   ]
  },
  {
   "cell_type": "code",
   "execution_count": 12,
   "id": "8453f9c0",
   "metadata": {},
   "outputs": [],
   "source": [
    "name_list.append('class_name')"
   ]
  },
  {
   "cell_type": "code",
   "execution_count": 13,
   "id": "ad59f6c8",
   "metadata": {},
   "outputs": [],
   "source": [
    "congress_df = congress_df[name_list]"
   ]
  },
  {
   "cell_type": "code",
   "execution_count": 14,
   "id": "50d90c26",
   "metadata": {},
   "outputs": [
    {
     "data": {
      "text/html": [
       "<div>\n",
       "<style scoped>\n",
       "    .dataframe tbody tr th:only-of-type {\n",
       "        vertical-align: middle;\n",
       "    }\n",
       "\n",
       "    .dataframe tbody tr th {\n",
       "        vertical-align: top;\n",
       "    }\n",
       "\n",
       "    .dataframe thead th {\n",
       "        text-align: right;\n",
       "    }\n",
       "</style>\n",
       "<table border=\"1\" class=\"dataframe\">\n",
       "  <thead>\n",
       "    <tr style=\"text-align: right;\">\n",
       "      <th></th>\n",
       "      <th>handicapped_infants</th>\n",
       "      <th>water_sharing</th>\n",
       "      <th>budget_resolution</th>\n",
       "      <th>physician_fee</th>\n",
       "      <th>el_salvador_aid</th>\n",
       "      <th>religious_schools</th>\n",
       "      <th>anti_sat_test</th>\n",
       "      <th>aid_nicaraguan</th>\n",
       "      <th>mx_missile</th>\n",
       "      <th>immigration</th>\n",
       "      <th>synfuels_cutback</th>\n",
       "      <th>ed_spending</th>\n",
       "      <th>superfund_sue</th>\n",
       "      <th>crime</th>\n",
       "      <th>duty_free_ex</th>\n",
       "      <th>south_africa</th>\n",
       "      <th>class_name</th>\n",
       "    </tr>\n",
       "  </thead>\n",
       "  <tbody>\n",
       "    <tr>\n",
       "      <th>0</th>\n",
       "      <td>0</td>\n",
       "      <td>1</td>\n",
       "      <td>0</td>\n",
       "      <td>1</td>\n",
       "      <td>1</td>\n",
       "      <td>1</td>\n",
       "      <td>0</td>\n",
       "      <td>0</td>\n",
       "      <td>0</td>\n",
       "      <td>1</td>\n",
       "      <td>NaN</td>\n",
       "      <td>1</td>\n",
       "      <td>1</td>\n",
       "      <td>1</td>\n",
       "      <td>0</td>\n",
       "      <td>1</td>\n",
       "      <td>republican</td>\n",
       "    </tr>\n",
       "    <tr>\n",
       "      <th>1</th>\n",
       "      <td>0</td>\n",
       "      <td>1</td>\n",
       "      <td>0</td>\n",
       "      <td>1</td>\n",
       "      <td>1</td>\n",
       "      <td>1</td>\n",
       "      <td>0</td>\n",
       "      <td>0</td>\n",
       "      <td>0</td>\n",
       "      <td>0</td>\n",
       "      <td>0</td>\n",
       "      <td>1</td>\n",
       "      <td>1</td>\n",
       "      <td>1</td>\n",
       "      <td>0</td>\n",
       "      <td>NaN</td>\n",
       "      <td>republican</td>\n",
       "    </tr>\n",
       "    <tr>\n",
       "      <th>2</th>\n",
       "      <td>NaN</td>\n",
       "      <td>1</td>\n",
       "      <td>1</td>\n",
       "      <td>NaN</td>\n",
       "      <td>1</td>\n",
       "      <td>1</td>\n",
       "      <td>0</td>\n",
       "      <td>0</td>\n",
       "      <td>0</td>\n",
       "      <td>0</td>\n",
       "      <td>1</td>\n",
       "      <td>0</td>\n",
       "      <td>1</td>\n",
       "      <td>1</td>\n",
       "      <td>0</td>\n",
       "      <td>0</td>\n",
       "      <td>democrat</td>\n",
       "    </tr>\n",
       "    <tr>\n",
       "      <th>3</th>\n",
       "      <td>0</td>\n",
       "      <td>1</td>\n",
       "      <td>1</td>\n",
       "      <td>0</td>\n",
       "      <td>NaN</td>\n",
       "      <td>1</td>\n",
       "      <td>0</td>\n",
       "      <td>0</td>\n",
       "      <td>0</td>\n",
       "      <td>0</td>\n",
       "      <td>1</td>\n",
       "      <td>0</td>\n",
       "      <td>1</td>\n",
       "      <td>0</td>\n",
       "      <td>0</td>\n",
       "      <td>1</td>\n",
       "      <td>democrat</td>\n",
       "    </tr>\n",
       "    <tr>\n",
       "      <th>4</th>\n",
       "      <td>1</td>\n",
       "      <td>1</td>\n",
       "      <td>1</td>\n",
       "      <td>0</td>\n",
       "      <td>1</td>\n",
       "      <td>1</td>\n",
       "      <td>0</td>\n",
       "      <td>0</td>\n",
       "      <td>0</td>\n",
       "      <td>0</td>\n",
       "      <td>1</td>\n",
       "      <td>NaN</td>\n",
       "      <td>1</td>\n",
       "      <td>1</td>\n",
       "      <td>1</td>\n",
       "      <td>1</td>\n",
       "      <td>democrat</td>\n",
       "    </tr>\n",
       "  </tbody>\n",
       "</table>\n",
       "</div>"
      ],
      "text/plain": [
       "  handicapped_infants water_sharing budget_resolution physician_fee  \\\n",
       "0                   0             1                 0             1   \n",
       "1                   0             1                 0             1   \n",
       "2                 NaN             1                 1           NaN   \n",
       "3                   0             1                 1             0   \n",
       "4                   1             1                 1             0   \n",
       "\n",
       "  el_salvador_aid religious_schools anti_sat_test aid_nicaraguan mx_missile  \\\n",
       "0               1                 1             0              0          0   \n",
       "1               1                 1             0              0          0   \n",
       "2               1                 1             0              0          0   \n",
       "3             NaN                 1             0              0          0   \n",
       "4               1                 1             0              0          0   \n",
       "\n",
       "  immigration synfuels_cutback ed_spending superfund_sue crime duty_free_ex  \\\n",
       "0           1              NaN           1             1     1            0   \n",
       "1           0                0           1             1     1            0   \n",
       "2           0                1           0             1     1            0   \n",
       "3           0                1           0             1     0            0   \n",
       "4           0                1         NaN             1     1            1   \n",
       "\n",
       "  south_africa  class_name  \n",
       "0            1  republican  \n",
       "1          NaN  republican  \n",
       "2            0    democrat  \n",
       "3            1    democrat  \n",
       "4            1    democrat  "
      ]
     },
     "execution_count": 14,
     "metadata": {},
     "output_type": "execute_result"
    }
   ],
   "source": [
    "congress_df.head()"
   ]
  },
  {
   "cell_type": "code",
   "execution_count": 15,
   "id": "9e46960a",
   "metadata": {},
   "outputs": [],
   "source": [
    "# Check data distribution prior to imputing missing values"
   ]
  },
  {
   "cell_type": "code",
   "execution_count": 16,
   "id": "f7fab7bd",
   "metadata": {},
   "outputs": [],
   "source": [
    "# congress_df.hist(figsize=(16,18));"
   ]
  },
  {
   "cell_type": "markdown",
   "id": "d54f7ee7",
   "metadata": {},
   "source": [
    "### Handle missing values in dataset\n",
    "From documentation:\n",
    "Missing Attribute Values: Denoted by \"?\"\n",
    "\n",
    "   NOTE: It is important to recognize that \"?\" in this database does \n",
    "         not mean that the value of the attribute is unknown.  It \n",
    "         means simply, that the value is not \"yea\" or \"nay\" (see \n",
    "         \"Relevant Information\" section above).\n",
    "\n",
    "  Documentation States:  #Missing Values:\n",
    "           1:  0\n",
    "           2:  0\n",
    "           3:  12\n",
    "           4:  48\n",
    "           5:  11\n",
    "           6:  11\n",
    "           7:  15\n",
    "           8:  11\n",
    "           9:  14\n",
    "          10:  15\n",
    "          11:  22\n",
    "          12:  7\n",
    "          13:  21\n",
    "          14:  31\n",
    "          15:  25\n",
    "          16:  17\n",
    "          17:  28"
   ]
  },
  {
   "cell_type": "code",
   "execution_count": 17,
   "id": "9ea3a515",
   "metadata": {},
   "outputs": [
    {
     "data": {
      "text/plain": [
       "17"
      ]
     },
     "execution_count": 17,
     "metadata": {},
     "output_type": "execute_result"
    }
   ],
   "source": [
    "len(congress_df.columns)"
   ]
  },
  {
   "cell_type": "code",
   "execution_count": 18,
   "id": "09db69dc",
   "metadata": {},
   "outputs": [
    {
     "data": {
      "text/plain": [
       "handicapped_infants     12\n",
       "water_sharing           48\n",
       "budget_resolution       11\n",
       "physician_fee           11\n",
       "el_salvador_aid         15\n",
       "religious_schools       11\n",
       "anti_sat_test           14\n",
       "aid_nicaraguan          15\n",
       "mx_missile              22\n",
       "immigration              7\n",
       "synfuels_cutback        21\n",
       "ed_spending             31\n",
       "superfund_sue           25\n",
       "crime                   17\n",
       "duty_free_ex            28\n",
       "south_africa           104\n",
       "class_name               0\n",
       "dtype: int64"
      ]
     },
     "execution_count": 18,
     "metadata": {},
     "output_type": "execute_result"
    }
   ],
   "source": [
    "congress_df.isnull().sum()"
   ]
  },
  {
   "cell_type": "markdown",
   "id": "7b353ea8",
   "metadata": {},
   "source": [
    "This confirms the NaNs in the South Africa column that are not in the documentation. The values indicate 269 yes's and 62 no's. There are 435 votes total, and 104 are unaccounted for."
   ]
  },
  {
   "cell_type": "markdown",
   "id": "e32a213c",
   "metadata": {},
   "source": [
    "Null values do not exactly match documentation. They are shifted over by 1. I initially thought that the first column was referring to the index, but that does not appear to be the case. Also, the final value, South Africa (export-administration-act-south-africa) with 104 missing values is not shown in the documentation."
   ]
  },
  {
   "cell_type": "markdown",
   "id": "edb015eb",
   "metadata": {},
   "source": [
    "There are too many missing values in the South Africa column. We will drop this data."
   ]
  },
  {
   "cell_type": "code",
   "execution_count": 19,
   "id": "e71879e9",
   "metadata": {},
   "outputs": [],
   "source": [
    "congress_df = congress_df.drop(['south_africa'], axis=1)"
   ]
  },
  {
   "cell_type": "markdown",
   "id": "946b65b8",
   "metadata": {},
   "source": [
    "Since some of the votes are missing due to members abstaining from controversial votes it is likely that the data is Not Missing at Random. (NMAR)  \n",
    "Missing Value Strategy: Each column will be grouped by Republicans and Democrats. The missing values will be filled in after considering the target variable (whether Republican or Democrat) and going with the majority vote from those groups."
   ]
  },
  {
   "cell_type": "markdown",
   "id": "0a2de7bc",
   "metadata": {},
   "source": [
    "Number of Democrats and Republicans in the House of Representatives in 1984"
   ]
  },
  {
   "cell_type": "code",
   "execution_count": 20,
   "id": "6c4ad2ae",
   "metadata": {},
   "outputs": [
    {
     "data": {
      "text/plain": [
       "democrat      267\n",
       "republican    168\n",
       "Name: class_name, dtype: int64"
      ]
     },
     "execution_count": 20,
     "metadata": {},
     "output_type": "execute_result"
    }
   ],
   "source": [
    "num_reps = congress_df.class_name.value_counts()\n",
    "num_reps"
   ]
  },
  {
   "cell_type": "code",
   "execution_count": 21,
   "id": "8ffbcd59",
   "metadata": {},
   "outputs": [],
   "source": [
    "iter_list = name_list[:-2] # all column names except south_africa (dropped) and class_name (target, no nulls)"
   ]
  },
  {
   "cell_type": "markdown",
   "id": "f4965ae2",
   "metadata": {},
   "source": [
    "We will get the proportion of party members that missed each vote"
   ]
  },
  {
   "cell_type": "code",
   "execution_count": 22,
   "id": "33cd653c",
   "metadata": {},
   "outputs": [],
   "source": [
    "null_list = []\n",
    "for col_name in iter_list:\n",
    "    null_dict = {}\n",
    "    nulls = congress_df[congress_df[col_name].isnull()]['class_name'].value_counts()\n",
    "    null_dict['dems'] = (nulls[0]/num_reps[0]) # get percentage\n",
    "    null_dict['reps'] = (nulls[1]/num_reps[1])\n",
    "    null_list.append(null_dict)"
   ]
  },
  {
   "cell_type": "code",
   "execution_count": 23,
   "id": "f2243f9b",
   "metadata": {},
   "outputs": [],
   "source": [
    "null_df = pd.DataFrame(null_list)"
   ]
  },
  {
   "cell_type": "code",
   "execution_count": 24,
   "id": "e99faf98",
   "metadata": {},
   "outputs": [
    {
     "data": {
      "text/html": [
       "<div>\n",
       "<style scoped>\n",
       "    .dataframe tbody tr th:only-of-type {\n",
       "        vertical-align: middle;\n",
       "    }\n",
       "\n",
       "    .dataframe tbody tr th {\n",
       "        vertical-align: top;\n",
       "    }\n",
       "\n",
       "    .dataframe thead th {\n",
       "        text-align: right;\n",
       "    }\n",
       "</style>\n",
       "<table border=\"1\" class=\"dataframe\">\n",
       "  <thead>\n",
       "    <tr style=\"text-align: right;\">\n",
       "      <th></th>\n",
       "      <th>dems</th>\n",
       "      <th>reps</th>\n",
       "    </tr>\n",
       "  </thead>\n",
       "  <tbody>\n",
       "    <tr>\n",
       "      <th>0</th>\n",
       "      <td>0.033708</td>\n",
       "      <td>0.017857</td>\n",
       "    </tr>\n",
       "    <tr>\n",
       "      <th>1</th>\n",
       "      <td>0.104869</td>\n",
       "      <td>0.119048</td>\n",
       "    </tr>\n",
       "    <tr>\n",
       "      <th>2</th>\n",
       "      <td>0.026217</td>\n",
       "      <td>0.023810</td>\n",
       "    </tr>\n",
       "    <tr>\n",
       "      <th>3</th>\n",
       "      <td>0.029963</td>\n",
       "      <td>0.017857</td>\n",
       "    </tr>\n",
       "    <tr>\n",
       "      <th>4</th>\n",
       "      <td>0.044944</td>\n",
       "      <td>0.017857</td>\n",
       "    </tr>\n",
       "    <tr>\n",
       "      <th>5</th>\n",
       "      <td>0.033708</td>\n",
       "      <td>0.011905</td>\n",
       "    </tr>\n",
       "    <tr>\n",
       "      <th>6</th>\n",
       "      <td>0.029963</td>\n",
       "      <td>0.035714</td>\n",
       "    </tr>\n",
       "    <tr>\n",
       "      <th>7</th>\n",
       "      <td>0.041199</td>\n",
       "      <td>0.023810</td>\n",
       "    </tr>\n",
       "    <tr>\n",
       "      <th>8</th>\n",
       "      <td>0.071161</td>\n",
       "      <td>0.017857</td>\n",
       "    </tr>\n",
       "    <tr>\n",
       "      <th>9</th>\n",
       "      <td>0.014981</td>\n",
       "      <td>0.017857</td>\n",
       "    </tr>\n",
       "    <tr>\n",
       "      <th>10</th>\n",
       "      <td>0.044944</td>\n",
       "      <td>0.053571</td>\n",
       "    </tr>\n",
       "    <tr>\n",
       "      <th>11</th>\n",
       "      <td>0.067416</td>\n",
       "      <td>0.077381</td>\n",
       "    </tr>\n",
       "    <tr>\n",
       "      <th>12</th>\n",
       "      <td>0.056180</td>\n",
       "      <td>0.059524</td>\n",
       "    </tr>\n",
       "    <tr>\n",
       "      <th>13</th>\n",
       "      <td>0.037453</td>\n",
       "      <td>0.041667</td>\n",
       "    </tr>\n",
       "    <tr>\n",
       "      <th>14</th>\n",
       "      <td>0.059925</td>\n",
       "      <td>0.071429</td>\n",
       "    </tr>\n",
       "  </tbody>\n",
       "</table>\n",
       "</div>"
      ],
      "text/plain": [
       "        dems      reps\n",
       "0   0.033708  0.017857\n",
       "1   0.104869  0.119048\n",
       "2   0.026217  0.023810\n",
       "3   0.029963  0.017857\n",
       "4   0.044944  0.017857\n",
       "5   0.033708  0.011905\n",
       "6   0.029963  0.035714\n",
       "7   0.041199  0.023810\n",
       "8   0.071161  0.017857\n",
       "9   0.014981  0.017857\n",
       "10  0.044944  0.053571\n",
       "11  0.067416  0.077381\n",
       "12  0.056180  0.059524\n",
       "13  0.037453  0.041667\n",
       "14  0.059925  0.071429"
      ]
     },
     "execution_count": 24,
     "metadata": {},
     "output_type": "execute_result"
    }
   ],
   "source": [
    "null_df"
   ]
  },
  {
   "cell_type": "markdown",
   "id": "8e64c20c",
   "metadata": {},
   "source": [
    "The values are close. Are they statistically different? This will be tested with at t-test."
   ]
  },
  {
   "cell_type": "code",
   "execution_count": 25,
   "id": "f0d32216",
   "metadata": {},
   "outputs": [],
   "source": [
    "A=null_df[['dems']].values.tolist()\n",
    "B=null_df[['reps']].values.tolist()"
   ]
  },
  {
   "cell_type": "code",
   "execution_count": 26,
   "id": "ee34bcc3",
   "metadata": {},
   "outputs": [
    {
     "name": "stdout",
     "output_type": "stream",
     "text": [
      "Ttest_indResult(statistic=array([0.60975268]), pvalue=array([0.54694252]))\n",
      "The percentage of missing members by vote is not statistically different.\n"
     ]
    }
   ],
   "source": [
    "t_check=stats.ttest_ind(A,B)\n",
    "print(t_check)\n",
    "alpha=0.05 # set confidence level\n",
    "if(t_check[1]<alpha):\n",
    "    print('The percentage of missing members from each party is statistically different for the votes.')\n",
    "else:\n",
    "    print('The percentage of missing members by vote is not statistically different.')"
   ]
  },
  {
   "cell_type": "markdown",
   "id": "5ab7e6d1",
   "metadata": {},
   "source": [
    "Data is MAR, or Missing at Random. The data is not missing across all observations but only within sub-samples of the data. Based on this, it is reasonable to fill the missing data with that member's party majority vote. "
   ]
  },
  {
   "cell_type": "code",
   "execution_count": 27,
   "id": "aeab2f1e",
   "metadata": {},
   "outputs": [],
   "source": [
    "global grouped_table \n",
    "grouped_table = congress_df.groupby('class_name').agg({'handicapped_infants':'sum', \\\n",
    "                                      'water_sharing':'sum', \\\n",
    "                                       'budget_resolution':'sum', \\\n",
    "                                       'physician_fee':'sum', \\\n",
    "                                       'el_salvador_aid':'sum', \\\n",
    "                                       'religious_schools':'sum', \\\n",
    "                                       'anti_sat_test':'sum', \\\n",
    "                                       'aid_nicaraguan':'sum', \\\n",
    "                                       'mx_missile':'sum', \\\n",
    "                                       'immigration':'sum',\\\n",
    "                                       'synfuels_cutback':'sum', \\\n",
    "                                       'ed_spending':'sum', \\\n",
    "                                       'superfund_sue':'sum', \\\n",
    "                                       'crime':'sum', \\\n",
    "                                       'duty_free_ex':'sum'})"
   ]
  },
  {
   "cell_type": "markdown",
   "id": "13e7f216",
   "metadata": {},
   "source": [
    "This table shows the vote count by part for each vote. These values will be used during data imputation to see how the majority of the missing member's party voted."
   ]
  },
  {
   "cell_type": "code",
   "execution_count": 28,
   "id": "0003eab3",
   "metadata": {},
   "outputs": [
    {
     "data": {
      "text/html": [
       "<div>\n",
       "<style scoped>\n",
       "    .dataframe tbody tr th:only-of-type {\n",
       "        vertical-align: middle;\n",
       "    }\n",
       "\n",
       "    .dataframe tbody tr th {\n",
       "        vertical-align: top;\n",
       "    }\n",
       "\n",
       "    .dataframe thead th {\n",
       "        text-align: right;\n",
       "    }\n",
       "</style>\n",
       "<table border=\"1\" class=\"dataframe\">\n",
       "  <thead>\n",
       "    <tr style=\"text-align: right;\">\n",
       "      <th></th>\n",
       "      <th>handicapped_infants</th>\n",
       "      <th>water_sharing</th>\n",
       "      <th>budget_resolution</th>\n",
       "      <th>physician_fee</th>\n",
       "      <th>el_salvador_aid</th>\n",
       "      <th>religious_schools</th>\n",
       "      <th>anti_sat_test</th>\n",
       "      <th>aid_nicaraguan</th>\n",
       "      <th>mx_missile</th>\n",
       "      <th>immigration</th>\n",
       "      <th>synfuels_cutback</th>\n",
       "      <th>ed_spending</th>\n",
       "      <th>superfund_sue</th>\n",
       "      <th>crime</th>\n",
       "      <th>duty_free_ex</th>\n",
       "    </tr>\n",
       "    <tr>\n",
       "      <th>class_name</th>\n",
       "      <th></th>\n",
       "      <th></th>\n",
       "      <th></th>\n",
       "      <th></th>\n",
       "      <th></th>\n",
       "      <th></th>\n",
       "      <th></th>\n",
       "      <th></th>\n",
       "      <th></th>\n",
       "      <th></th>\n",
       "      <th></th>\n",
       "      <th></th>\n",
       "      <th></th>\n",
       "      <th></th>\n",
       "      <th></th>\n",
       "    </tr>\n",
       "  </thead>\n",
       "  <tbody>\n",
       "    <tr>\n",
       "      <th>democrat</th>\n",
       "      <td>156</td>\n",
       "      <td>120</td>\n",
       "      <td>231</td>\n",
       "      <td>14</td>\n",
       "      <td>55</td>\n",
       "      <td>123</td>\n",
       "      <td>200</td>\n",
       "      <td>218</td>\n",
       "      <td>188</td>\n",
       "      <td>124</td>\n",
       "      <td>129</td>\n",
       "      <td>36</td>\n",
       "      <td>73</td>\n",
       "      <td>90</td>\n",
       "      <td>160</td>\n",
       "    </tr>\n",
       "    <tr>\n",
       "      <th>republican</th>\n",
       "      <td>31</td>\n",
       "      <td>75</td>\n",
       "      <td>22</td>\n",
       "      <td>163</td>\n",
       "      <td>157</td>\n",
       "      <td>149</td>\n",
       "      <td>39</td>\n",
       "      <td>24</td>\n",
       "      <td>19</td>\n",
       "      <td>92</td>\n",
       "      <td>21</td>\n",
       "      <td>135</td>\n",
       "      <td>136</td>\n",
       "      <td>158</td>\n",
       "      <td>14</td>\n",
       "    </tr>\n",
       "  </tbody>\n",
       "</table>\n",
       "</div>"
      ],
      "text/plain": [
       "            handicapped_infants  water_sharing  budget_resolution  \\\n",
       "class_name                                                          \n",
       "democrat                    156            120                231   \n",
       "republican                   31             75                 22   \n",
       "\n",
       "            physician_fee  el_salvador_aid  religious_schools  anti_sat_test  \\\n",
       "class_name                                                                     \n",
       "democrat               14               55                123            200   \n",
       "republican            163              157                149             39   \n",
       "\n",
       "            aid_nicaraguan  mx_missile  immigration  synfuels_cutback  \\\n",
       "class_name                                                              \n",
       "democrat               218         188          124               129   \n",
       "republican              24          19           92                21   \n",
       "\n",
       "            ed_spending  superfund_sue  crime  duty_free_ex  \n",
       "class_name                                                   \n",
       "democrat             36             73     90           160  \n",
       "republican          135            136    158            14  "
      ]
     },
     "execution_count": 28,
     "metadata": {},
     "output_type": "execute_result"
    }
   ],
   "source": [
    "grouped_table"
   ]
  },
  {
   "cell_type": "markdown",
   "id": "52080455",
   "metadata": {},
   "source": [
    "Most votes are highly skewed towards Democrat or Republican. The numbers indicate 'yes' votes. "
   ]
  },
  {
   "cell_type": "code",
   "execution_count": 29,
   "id": "46a9215c",
   "metadata": {},
   "outputs": [],
   "source": [
    "def impute_vote(df):\n",
    "    col_name = df.index[1]\n",
    "    if (np.isnan(df[col_name])): # is nan; need to impute\n",
    "        if df['class_name'] == 'democrat':\n",
    "            return (grouped_table[col_name][0]>grouped_table[col_name][1]).astype(int) # Democrats yes > Republican yes\n",
    "        if df['class_name'] == 'republican':\n",
    "            return (grouped_table[col_name][1]>grouped_table[col_name][0]).astype(int) # Rep yes > Dem yes\n",
    "    else:\n",
    "        return df[col_name] # already had val"
   ]
  },
  {
   "cell_type": "code",
   "execution_count": 30,
   "id": "e602138a",
   "metadata": {},
   "outputs": [],
   "source": [
    "for col_name in iter_list: # replace NaNs for each column\n",
    "    congress_df[col_name] = congress_df[['class_name',col_name]].apply(impute_vote, axis=1)"
   ]
  },
  {
   "cell_type": "code",
   "execution_count": 31,
   "id": "3d66c4ac",
   "metadata": {},
   "outputs": [
    {
     "data": {
      "text/html": [
       "<div>\n",
       "<style scoped>\n",
       "    .dataframe tbody tr th:only-of-type {\n",
       "        vertical-align: middle;\n",
       "    }\n",
       "\n",
       "    .dataframe tbody tr th {\n",
       "        vertical-align: top;\n",
       "    }\n",
       "\n",
       "    .dataframe thead th {\n",
       "        text-align: right;\n",
       "    }\n",
       "</style>\n",
       "<table border=\"1\" class=\"dataframe\">\n",
       "  <thead>\n",
       "    <tr style=\"text-align: right;\">\n",
       "      <th></th>\n",
       "      <th>handicapped_infants</th>\n",
       "      <th>water_sharing</th>\n",
       "      <th>budget_resolution</th>\n",
       "      <th>physician_fee</th>\n",
       "      <th>el_salvador_aid</th>\n",
       "      <th>religious_schools</th>\n",
       "      <th>anti_sat_test</th>\n",
       "      <th>aid_nicaraguan</th>\n",
       "      <th>mx_missile</th>\n",
       "      <th>immigration</th>\n",
       "      <th>synfuels_cutback</th>\n",
       "      <th>ed_spending</th>\n",
       "      <th>superfund_sue</th>\n",
       "      <th>crime</th>\n",
       "      <th>duty_free_ex</th>\n",
       "      <th>class_name</th>\n",
       "    </tr>\n",
       "  </thead>\n",
       "  <tbody>\n",
       "    <tr>\n",
       "      <th>0</th>\n",
       "      <td>0</td>\n",
       "      <td>1</td>\n",
       "      <td>0</td>\n",
       "      <td>1</td>\n",
       "      <td>1</td>\n",
       "      <td>1</td>\n",
       "      <td>0</td>\n",
       "      <td>0</td>\n",
       "      <td>0</td>\n",
       "      <td>1</td>\n",
       "      <td>0</td>\n",
       "      <td>1</td>\n",
       "      <td>1</td>\n",
       "      <td>1</td>\n",
       "      <td>0</td>\n",
       "      <td>republican</td>\n",
       "    </tr>\n",
       "    <tr>\n",
       "      <th>1</th>\n",
       "      <td>0</td>\n",
       "      <td>1</td>\n",
       "      <td>0</td>\n",
       "      <td>1</td>\n",
       "      <td>1</td>\n",
       "      <td>1</td>\n",
       "      <td>0</td>\n",
       "      <td>0</td>\n",
       "      <td>0</td>\n",
       "      <td>0</td>\n",
       "      <td>0</td>\n",
       "      <td>1</td>\n",
       "      <td>1</td>\n",
       "      <td>1</td>\n",
       "      <td>0</td>\n",
       "      <td>republican</td>\n",
       "    </tr>\n",
       "    <tr>\n",
       "      <th>2</th>\n",
       "      <td>1</td>\n",
       "      <td>1</td>\n",
       "      <td>1</td>\n",
       "      <td>0</td>\n",
       "      <td>1</td>\n",
       "      <td>1</td>\n",
       "      <td>0</td>\n",
       "      <td>0</td>\n",
       "      <td>0</td>\n",
       "      <td>0</td>\n",
       "      <td>1</td>\n",
       "      <td>0</td>\n",
       "      <td>1</td>\n",
       "      <td>1</td>\n",
       "      <td>0</td>\n",
       "      <td>democrat</td>\n",
       "    </tr>\n",
       "    <tr>\n",
       "      <th>3</th>\n",
       "      <td>0</td>\n",
       "      <td>1</td>\n",
       "      <td>1</td>\n",
       "      <td>0</td>\n",
       "      <td>0</td>\n",
       "      <td>1</td>\n",
       "      <td>0</td>\n",
       "      <td>0</td>\n",
       "      <td>0</td>\n",
       "      <td>0</td>\n",
       "      <td>1</td>\n",
       "      <td>0</td>\n",
       "      <td>1</td>\n",
       "      <td>0</td>\n",
       "      <td>0</td>\n",
       "      <td>democrat</td>\n",
       "    </tr>\n",
       "    <tr>\n",
       "      <th>4</th>\n",
       "      <td>1</td>\n",
       "      <td>1</td>\n",
       "      <td>1</td>\n",
       "      <td>0</td>\n",
       "      <td>1</td>\n",
       "      <td>1</td>\n",
       "      <td>0</td>\n",
       "      <td>0</td>\n",
       "      <td>0</td>\n",
       "      <td>0</td>\n",
       "      <td>1</td>\n",
       "      <td>0</td>\n",
       "      <td>1</td>\n",
       "      <td>1</td>\n",
       "      <td>1</td>\n",
       "      <td>democrat</td>\n",
       "    </tr>\n",
       "  </tbody>\n",
       "</table>\n",
       "</div>"
      ],
      "text/plain": [
       "   handicapped_infants  water_sharing  budget_resolution  physician_fee  \\\n",
       "0                    0              1                  0              1   \n",
       "1                    0              1                  0              1   \n",
       "2                    1              1                  1              0   \n",
       "3                    0              1                  1              0   \n",
       "4                    1              1                  1              0   \n",
       "\n",
       "   el_salvador_aid  religious_schools  anti_sat_test  aid_nicaraguan  \\\n",
       "0                1                  1              0               0   \n",
       "1                1                  1              0               0   \n",
       "2                1                  1              0               0   \n",
       "3                0                  1              0               0   \n",
       "4                1                  1              0               0   \n",
       "\n",
       "   mx_missile  immigration  synfuels_cutback  ed_spending  superfund_sue  \\\n",
       "0           0            1                 0            1              1   \n",
       "1           0            0                 0            1              1   \n",
       "2           0            0                 1            0              1   \n",
       "3           0            0                 1            0              1   \n",
       "4           0            0                 1            0              1   \n",
       "\n",
       "   crime  duty_free_ex  class_name  \n",
       "0      1             0  republican  \n",
       "1      1             0  republican  \n",
       "2      1             0    democrat  \n",
       "3      0             0    democrat  \n",
       "4      1             1    democrat  "
      ]
     },
     "execution_count": 31,
     "metadata": {},
     "output_type": "execute_result"
    }
   ],
   "source": [
    "congress_df.head()"
   ]
  },
  {
   "cell_type": "code",
   "execution_count": 32,
   "id": "c00bb672",
   "metadata": {},
   "outputs": [
    {
     "data": {
      "text/plain": [
       "0"
      ]
     },
     "execution_count": 32,
     "metadata": {},
     "output_type": "execute_result"
    }
   ],
   "source": [
    "# spot check to ensure correct imputataion: el_salvador_aid[3] null; democrat; based on votes, should be 0\n",
    "congress_df.el_salvador_aid.iloc[3] # checks out"
   ]
  },
  {
   "cell_type": "code",
   "execution_count": 33,
   "id": "e4517e12",
   "metadata": {},
   "outputs": [
    {
     "data": {
      "text/plain": [
       "0"
      ]
     },
     "execution_count": 33,
     "metadata": {},
     "output_type": "execute_result"
    }
   ],
   "source": [
    "# spot check to ensure correct imputataion: synfuels_cutback[0] null; republican; based on votes, should be 0\n",
    "congress_df.synfuels_cutback.iloc[0] # checks out"
   ]
  },
  {
   "cell_type": "code",
   "execution_count": 34,
   "id": "09541763",
   "metadata": {},
   "outputs": [
    {
     "data": {
      "text/plain": [
       "handicapped_infants    0\n",
       "water_sharing          0\n",
       "budget_resolution      0\n",
       "physician_fee          0\n",
       "el_salvador_aid        0\n",
       "religious_schools      0\n",
       "anti_sat_test          0\n",
       "aid_nicaraguan         0\n",
       "mx_missile             0\n",
       "immigration            0\n",
       "synfuels_cutback       0\n",
       "ed_spending            0\n",
       "superfund_sue          0\n",
       "crime                  0\n",
       "duty_free_ex           0\n",
       "class_name             0\n",
       "dtype: int64"
      ]
     },
     "execution_count": 34,
     "metadata": {},
     "output_type": "execute_result"
    }
   ],
   "source": [
    "congress_df.isnull().sum()"
   ]
  },
  {
   "cell_type": "markdown",
   "id": "bc616b1a",
   "metadata": {},
   "source": [
    "No more null values in dataset; dropped South Africa column because nearly 25% were null. Otherwise, nulls were imputed based on majority vote on issue from member's party."
   ]
  },
  {
   "cell_type": "markdown",
   "id": "322337cb",
   "metadata": {},
   "source": [
    "### Exploratory Data Analysis"
   ]
  },
  {
   "cell_type": "code",
   "execution_count": 35,
   "id": "907112e4",
   "metadata": {},
   "outputs": [
    {
     "data": {
      "image/png": "[encoded data removed]",
      "text/plain": [
       "<Figure size 1152x1296 with 16 Axes>"
      ]
     },
     "metadata": {
      "needs_background": "light"
     },
     "output_type": "display_data"
    }
   ],
   "source": [
    "congress_df.hist(figsize=(16,18));"
   ]
  },
  {
   "cell_type": "markdown",
   "id": "39a25067",
   "metadata": {},
   "source": [
    "Some votes are clearly lopsided in terms of which party supports the bill, but there are also several that are nearly equal in votes."
   ]
  },
  {
   "cell_type": "code",
   "execution_count": 36,
   "id": "90f0a8ca",
   "metadata": {},
   "outputs": [
    {
     "data": {
      "text/html": [
       "<div>\n",
       "<style scoped>\n",
       "    .dataframe tbody tr th:only-of-type {\n",
       "        vertical-align: middle;\n",
       "    }\n",
       "\n",
       "    .dataframe tbody tr th {\n",
       "        vertical-align: top;\n",
       "    }\n",
       "\n",
       "    .dataframe thead th {\n",
       "        text-align: right;\n",
       "    }\n",
       "</style>\n",
       "<table border=\"1\" class=\"dataframe\">\n",
       "  <thead>\n",
       "    <tr style=\"text-align: right;\">\n",
       "      <th></th>\n",
       "      <th>handicapped_infants</th>\n",
       "      <th>water_sharing</th>\n",
       "      <th>budget_resolution</th>\n",
       "      <th>physician_fee</th>\n",
       "      <th>el_salvador_aid</th>\n",
       "      <th>religious_schools</th>\n",
       "      <th>anti_sat_test</th>\n",
       "      <th>aid_nicaraguan</th>\n",
       "      <th>mx_missile</th>\n",
       "      <th>immigration</th>\n",
       "      <th>synfuels_cutback</th>\n",
       "      <th>ed_spending</th>\n",
       "      <th>superfund_sue</th>\n",
       "      <th>crime</th>\n",
       "      <th>duty_free_ex</th>\n",
       "    </tr>\n",
       "  </thead>\n",
       "  <tbody>\n",
       "    <tr>\n",
       "      <th>count</th>\n",
       "      <td>435.000000</td>\n",
       "      <td>435.000000</td>\n",
       "      <td>435.000000</td>\n",
       "      <td>435.000000</td>\n",
       "      <td>435.000000</td>\n",
       "      <td>435.000000</td>\n",
       "      <td>435.000000</td>\n",
       "      <td>435.000000</td>\n",
       "      <td>435.000000</td>\n",
       "      <td>435.000000</td>\n",
       "      <td>435.000000</td>\n",
       "      <td>435.000000</td>\n",
       "      <td>435.000000</td>\n",
       "      <td>435.000000</td>\n",
       "      <td>435.000000</td>\n",
       "    </tr>\n",
       "    <tr>\n",
       "      <th>mean</th>\n",
       "      <td>0.450575</td>\n",
       "      <td>0.512644</td>\n",
       "      <td>0.597701</td>\n",
       "      <td>0.413793</td>\n",
       "      <td>0.494253</td>\n",
       "      <td>0.629885</td>\n",
       "      <td>0.567816</td>\n",
       "      <td>0.565517</td>\n",
       "      <td>0.519540</td>\n",
       "      <td>0.505747</td>\n",
       "      <td>0.372414</td>\n",
       "      <td>0.422989</td>\n",
       "      <td>0.503448</td>\n",
       "      <td>0.586207</td>\n",
       "      <td>0.436782</td>\n",
       "    </tr>\n",
       "    <tr>\n",
       "      <th>std</th>\n",
       "      <td>0.498124</td>\n",
       "      <td>0.500416</td>\n",
       "      <td>0.490926</td>\n",
       "      <td>0.493079</td>\n",
       "      <td>0.500543</td>\n",
       "      <td>0.483391</td>\n",
       "      <td>0.495950</td>\n",
       "      <td>0.496260</td>\n",
       "      <td>0.500193</td>\n",
       "      <td>0.500543</td>\n",
       "      <td>0.484004</td>\n",
       "      <td>0.494602</td>\n",
       "      <td>0.500564</td>\n",
       "      <td>0.493079</td>\n",
       "      <td>0.496558</td>\n",
       "    </tr>\n",
       "    <tr>\n",
       "      <th>min</th>\n",
       "      <td>0.000000</td>\n",
       "      <td>0.000000</td>\n",
       "      <td>0.000000</td>\n",
       "      <td>0.000000</td>\n",
       "      <td>0.000000</td>\n",
       "      <td>0.000000</td>\n",
       "      <td>0.000000</td>\n",
       "      <td>0.000000</td>\n",
       "      <td>0.000000</td>\n",
       "      <td>0.000000</td>\n",
       "      <td>0.000000</td>\n",
       "      <td>0.000000</td>\n",
       "      <td>0.000000</td>\n",
       "      <td>0.000000</td>\n",
       "      <td>0.000000</td>\n",
       "    </tr>\n",
       "    <tr>\n",
       "      <th>25%</th>\n",
       "      <td>0.000000</td>\n",
       "      <td>0.000000</td>\n",
       "      <td>0.000000</td>\n",
       "      <td>0.000000</td>\n",
       "      <td>0.000000</td>\n",
       "      <td>0.000000</td>\n",
       "      <td>0.000000</td>\n",
       "      <td>0.000000</td>\n",
       "      <td>0.000000</td>\n",
       "      <td>0.000000</td>\n",
       "      <td>0.000000</td>\n",
       "      <td>0.000000</td>\n",
       "      <td>0.000000</td>\n",
       "      <td>0.000000</td>\n",
       "      <td>0.000000</td>\n",
       "    </tr>\n",
       "    <tr>\n",
       "      <th>50%</th>\n",
       "      <td>0.000000</td>\n",
       "      <td>1.000000</td>\n",
       "      <td>1.000000</td>\n",
       "      <td>0.000000</td>\n",
       "      <td>0.000000</td>\n",
       "      <td>1.000000</td>\n",
       "      <td>1.000000</td>\n",
       "      <td>1.000000</td>\n",
       "      <td>1.000000</td>\n",
       "      <td>1.000000</td>\n",
       "      <td>0.000000</td>\n",
       "      <td>0.000000</td>\n",
       "      <td>1.000000</td>\n",
       "      <td>1.000000</td>\n",
       "      <td>0.000000</td>\n",
       "    </tr>\n",
       "    <tr>\n",
       "      <th>75%</th>\n",
       "      <td>1.000000</td>\n",
       "      <td>1.000000</td>\n",
       "      <td>1.000000</td>\n",
       "      <td>1.000000</td>\n",
       "      <td>1.000000</td>\n",
       "      <td>1.000000</td>\n",
       "      <td>1.000000</td>\n",
       "      <td>1.000000</td>\n",
       "      <td>1.000000</td>\n",
       "      <td>1.000000</td>\n",
       "      <td>1.000000</td>\n",
       "      <td>1.000000</td>\n",
       "      <td>1.000000</td>\n",
       "      <td>1.000000</td>\n",
       "      <td>1.000000</td>\n",
       "    </tr>\n",
       "    <tr>\n",
       "      <th>max</th>\n",
       "      <td>1.000000</td>\n",
       "      <td>1.000000</td>\n",
       "      <td>1.000000</td>\n",
       "      <td>1.000000</td>\n",
       "      <td>1.000000</td>\n",
       "      <td>1.000000</td>\n",
       "      <td>1.000000</td>\n",
       "      <td>1.000000</td>\n",
       "      <td>1.000000</td>\n",
       "      <td>1.000000</td>\n",
       "      <td>1.000000</td>\n",
       "      <td>1.000000</td>\n",
       "      <td>1.000000</td>\n",
       "      <td>1.000000</td>\n",
       "      <td>1.000000</td>\n",
       "    </tr>\n",
       "  </tbody>\n",
       "</table>\n",
       "</div>"
      ],
      "text/plain": [
       "       handicapped_infants  water_sharing  budget_resolution  physician_fee  \\\n",
       "count           435.000000     435.000000         435.000000     435.000000   \n",
       "mean              0.450575       0.512644           0.597701       0.413793   \n",
       "std               0.498124       0.500416           0.490926       0.493079   \n",
       "min               0.000000       0.000000           0.000000       0.000000   \n",
       "25%               0.000000       0.000000           0.000000       0.000000   \n",
       "50%               0.000000       1.000000           1.000000       0.000000   \n",
       "75%               1.000000       1.000000           1.000000       1.000000   \n",
       "max               1.000000       1.000000           1.000000       1.000000   \n",
       "\n",
       "       el_salvador_aid  religious_schools  anti_sat_test  aid_nicaraguan  \\\n",
       "count       435.000000         435.000000     435.000000      435.000000   \n",
       "mean          0.494253           0.629885       0.567816        0.565517   \n",
       "std           0.500543           0.483391       0.495950        0.496260   \n",
       "min           0.000000           0.000000       0.000000        0.000000   \n",
       "25%           0.000000           0.000000       0.000000        0.000000   \n",
       "50%           0.000000           1.000000       1.000000        1.000000   \n",
       "75%           1.000000           1.000000       1.000000        1.000000   \n",
       "max           1.000000           1.000000       1.000000        1.000000   \n",
       "\n",
       "       mx_missile  immigration  synfuels_cutback  ed_spending  superfund_sue  \\\n",
       "count  435.000000   435.000000        435.000000   435.000000     435.000000   \n",
       "mean     0.519540     0.505747          0.372414     0.422989       0.503448   \n",
       "std      0.500193     0.500543          0.484004     0.494602       0.500564   \n",
       "min      0.000000     0.000000          0.000000     0.000000       0.000000   \n",
       "25%      0.000000     0.000000          0.000000     0.000000       0.000000   \n",
       "50%      1.000000     1.000000          0.000000     0.000000       1.000000   \n",
       "75%      1.000000     1.000000          1.000000     1.000000       1.000000   \n",
       "max      1.000000     1.000000          1.000000     1.000000       1.000000   \n",
       "\n",
       "            crime  duty_free_ex  \n",
       "count  435.000000    435.000000  \n",
       "mean     0.586207      0.436782  \n",
       "std      0.493079      0.496558  \n",
       "min      0.000000      0.000000  \n",
       "25%      0.000000      0.000000  \n",
       "50%      1.000000      0.000000  \n",
       "75%      1.000000      1.000000  \n",
       "max      1.000000      1.000000  "
      ]
     },
     "execution_count": 36,
     "metadata": {},
     "output_type": "execute_result"
    }
   ],
   "source": [
    "congress_df.describe()"
   ]
  },
  {
   "cell_type": "markdown",
   "id": "57f05bb4",
   "metadata": {},
   "source": [
    "The data is all standardized by 0 or 1 and the mean and standard deviation vary little. The models should be able to predict well on this consistent data."
   ]
  },
  {
   "cell_type": "code",
   "execution_count": 37,
   "id": "b0f5259f",
   "metadata": {},
   "outputs": [
    {
     "data": {
      "image/png": "[encoded data removed]",
      "text/plain": [
       "<Figure size 1008x504 with 2 Axes>"
      ]
     },
     "metadata": {
      "needs_background": "light"
     },
     "output_type": "display_data"
    }
   ],
   "source": [
    "corr = congress_df.corr()\n",
    "\n",
    "fig, ax = plt.subplots(figsize=(14,7))\n",
    "\n",
    "mask = np.zeros_like(corr, dtype=bool)   # returns an array of False values with same shape as corr dataframe\n",
    "mask[np.triu_indices_from(mask)] = True  # creates a boolean mask by making half the zero values == True\n",
    "ax = sns.heatmap(corr.round(2), mask=mask, ax=ax, annot=True, annot_kws={'fontsize':10}, cmap=\"RdYlGn\",vmin=-1,vmax=1)\n",
    "ax.set_xticklabels(ax.xaxis.get_ticklabels(), fontsize=14)\n",
    "ax.set_yticklabels(ax.yaxis.get_ticklabels(), fontsize=14)\n",
    "plt.tight_layout()\n",
    "plt.show()\n"
   ]
  },
  {
   "cell_type": "markdown",
   "id": "6d60070e",
   "metadata": {},
   "source": [
    "Some unexpected trends are present; surprisingly, aid to Nicaragua is highly negatively correlated with aid to El Salvador. The budget resolution and physician fee are negatively correlated while education spending and physician fee (physician-fee-freeze) are positively correlated."
   ]
  },
  {
   "cell_type": "markdown",
   "id": "a41e5155",
   "metadata": {},
   "source": [
    "### Compare Machine Learning Models"
   ]
  },
  {
   "cell_type": "markdown",
   "id": "ce76f9bd",
   "metadata": {},
   "source": [
    "Since all inputs are 0's and 1's, there is no need to scale this dataset. Scaling is meant to ensure that no feature dominates the others; all features already on the same scale."
   ]
  },
  {
   "cell_type": "markdown",
   "id": "a7e84ee3",
   "metadata": {},
   "source": [
    "Note: Democrat = 0; Republican = 1"
   ]
  },
  {
   "cell_type": "code",
   "execution_count": 38,
   "id": "8af8f0a4",
   "metadata": {},
   "outputs": [],
   "source": [
    "# change values; had left 'republican' and 'democrat' for clarity in missing data imputation\n",
    "def map_columns2(s): # update democrat, republican to 0,1 later for clarity in next steps\n",
    "    return s.map({'democrat':0, 'republican':1})"
   ]
  },
  {
   "cell_type": "code",
   "execution_count": 39,
   "id": "734690d5",
   "metadata": {},
   "outputs": [],
   "source": [
    "congress_df['class_name'] = congress_df[['class_name']].apply(map_columns2) # map values across class_name"
   ]
  },
  {
   "cell_type": "code",
   "execution_count": 40,
   "id": "ce88a7c3",
   "metadata": {},
   "outputs": [],
   "source": [
    "# view distibution of target variable"
   ]
  },
  {
   "cell_type": "code",
   "execution_count": 41,
   "id": "39bf7ae3",
   "metadata": {},
   "outputs": [
    {
     "data": {
      "image/png": "[encoded data removed]",
      "text/plain": [
       "<Figure size 360x360 with 1 Axes>"
      ]
     },
     "metadata": {
      "needs_background": "light"
     },
     "output_type": "display_data"
    }
   ],
   "source": [
    "congress_df['class_name'].hist(color='maroon',figsize=(5,5));"
   ]
  },
  {
   "cell_type": "markdown",
   "id": "c81aab85",
   "metadata": {},
   "source": [
    "Visualization of target; 267 Democrats, 167 Republicans"
   ]
  },
  {
   "cell_type": "code",
   "execution_count": 42,
   "id": "951fa58e",
   "metadata": {},
   "outputs": [
    {
     "data": {
      "text/html": [
       "<div>\n",
       "<style scoped>\n",
       "    .dataframe tbody tr th:only-of-type {\n",
       "        vertical-align: middle;\n",
       "    }\n",
       "\n",
       "    .dataframe tbody tr th {\n",
       "        vertical-align: top;\n",
       "    }\n",
       "\n",
       "    .dataframe thead th {\n",
       "        text-align: right;\n",
       "    }\n",
       "</style>\n",
       "<table border=\"1\" class=\"dataframe\">\n",
       "  <thead>\n",
       "    <tr style=\"text-align: right;\">\n",
       "      <th></th>\n",
       "      <th>handicapped_infants</th>\n",
       "      <th>water_sharing</th>\n",
       "      <th>budget_resolution</th>\n",
       "      <th>physician_fee</th>\n",
       "      <th>el_salvador_aid</th>\n",
       "      <th>religious_schools</th>\n",
       "      <th>anti_sat_test</th>\n",
       "      <th>aid_nicaraguan</th>\n",
       "      <th>mx_missile</th>\n",
       "      <th>immigration</th>\n",
       "      <th>synfuels_cutback</th>\n",
       "      <th>ed_spending</th>\n",
       "      <th>superfund_sue</th>\n",
       "      <th>crime</th>\n",
       "      <th>duty_free_ex</th>\n",
       "      <th>class_name</th>\n",
       "    </tr>\n",
       "  </thead>\n",
       "  <tbody>\n",
       "    <tr>\n",
       "      <th>0</th>\n",
       "      <td>0</td>\n",
       "      <td>1</td>\n",
       "      <td>0</td>\n",
       "      <td>1</td>\n",
       "      <td>1</td>\n",
       "      <td>1</td>\n",
       "      <td>0</td>\n",
       "      <td>0</td>\n",
       "      <td>0</td>\n",
       "      <td>1</td>\n",
       "      <td>0</td>\n",
       "      <td>1</td>\n",
       "      <td>1</td>\n",
       "      <td>1</td>\n",
       "      <td>0</td>\n",
       "      <td>1</td>\n",
       "    </tr>\n",
       "    <tr>\n",
       "      <th>1</th>\n",
       "      <td>0</td>\n",
       "      <td>1</td>\n",
       "      <td>0</td>\n",
       "      <td>1</td>\n",
       "      <td>1</td>\n",
       "      <td>1</td>\n",
       "      <td>0</td>\n",
       "      <td>0</td>\n",
       "      <td>0</td>\n",
       "      <td>0</td>\n",
       "      <td>0</td>\n",
       "      <td>1</td>\n",
       "      <td>1</td>\n",
       "      <td>1</td>\n",
       "      <td>0</td>\n",
       "      <td>1</td>\n",
       "    </tr>\n",
       "    <tr>\n",
       "      <th>2</th>\n",
       "      <td>1</td>\n",
       "      <td>1</td>\n",
       "      <td>1</td>\n",
       "      <td>0</td>\n",
       "      <td>1</td>\n",
       "      <td>1</td>\n",
       "      <td>0</td>\n",
       "      <td>0</td>\n",
       "      <td>0</td>\n",
       "      <td>0</td>\n",
       "      <td>1</td>\n",
       "      <td>0</td>\n",
       "      <td>1</td>\n",
       "      <td>1</td>\n",
       "      <td>0</td>\n",
       "      <td>0</td>\n",
       "    </tr>\n",
       "    <tr>\n",
       "      <th>3</th>\n",
       "      <td>0</td>\n",
       "      <td>1</td>\n",
       "      <td>1</td>\n",
       "      <td>0</td>\n",
       "      <td>0</td>\n",
       "      <td>1</td>\n",
       "      <td>0</td>\n",
       "      <td>0</td>\n",
       "      <td>0</td>\n",
       "      <td>0</td>\n",
       "      <td>1</td>\n",
       "      <td>0</td>\n",
       "      <td>1</td>\n",
       "      <td>0</td>\n",
       "      <td>0</td>\n",
       "      <td>0</td>\n",
       "    </tr>\n",
       "    <tr>\n",
       "      <th>4</th>\n",
       "      <td>1</td>\n",
       "      <td>1</td>\n",
       "      <td>1</td>\n",
       "      <td>0</td>\n",
       "      <td>1</td>\n",
       "      <td>1</td>\n",
       "      <td>0</td>\n",
       "      <td>0</td>\n",
       "      <td>0</td>\n",
       "      <td>0</td>\n",
       "      <td>1</td>\n",
       "      <td>0</td>\n",
       "      <td>1</td>\n",
       "      <td>1</td>\n",
       "      <td>1</td>\n",
       "      <td>0</td>\n",
       "    </tr>\n",
       "  </tbody>\n",
       "</table>\n",
       "</div>"
      ],
      "text/plain": [
       "   handicapped_infants  water_sharing  budget_resolution  physician_fee  \\\n",
       "0                    0              1                  0              1   \n",
       "1                    0              1                  0              1   \n",
       "2                    1              1                  1              0   \n",
       "3                    0              1                  1              0   \n",
       "4                    1              1                  1              0   \n",
       "\n",
       "   el_salvador_aid  religious_schools  anti_sat_test  aid_nicaraguan  \\\n",
       "0                1                  1              0               0   \n",
       "1                1                  1              0               0   \n",
       "2                1                  1              0               0   \n",
       "3                0                  1              0               0   \n",
       "4                1                  1              0               0   \n",
       "\n",
       "   mx_missile  immigration  synfuels_cutback  ed_spending  superfund_sue  \\\n",
       "0           0            1                 0            1              1   \n",
       "1           0            0                 0            1              1   \n",
       "2           0            0                 1            0              1   \n",
       "3           0            0                 1            0              1   \n",
       "4           0            0                 1            0              1   \n",
       "\n",
       "   crime  duty_free_ex  class_name  \n",
       "0      1             0           1  \n",
       "1      1             0           1  \n",
       "2      1             0           0  \n",
       "3      0             0           0  \n",
       "4      1             1           0  "
      ]
     },
     "execution_count": 42,
     "metadata": {},
     "output_type": "execute_result"
    }
   ],
   "source": [
    "congress_df.head()"
   ]
  },
  {
   "cell_type": "code",
   "execution_count": 43,
   "id": "709fc9ce",
   "metadata": {},
   "outputs": [],
   "source": [
    "# set up feature and target inputs\n",
    "X = congress_df.iloc[:,:-1]\n",
    "y = congress_df.iloc[:,-1]"
   ]
  },
  {
   "cell_type": "code",
   "execution_count": 44,
   "id": "82c92ef9",
   "metadata": {},
   "outputs": [],
   "source": [
    "X_train, X_test, y_train, y_test = train_test_split(X,y, test_size=0.25, random_state=42)"
   ]
  },
  {
   "cell_type": "markdown",
   "id": "7a5aa1ca",
   "metadata": {},
   "source": [
    "#### Random Forest Classification"
   ]
  },
  {
   "cell_type": "code",
   "execution_count": 45,
   "id": "70b095c1",
   "metadata": {},
   "outputs": [],
   "source": [
    "clf_rf = RandomForestClassifier(max_depth=4, random_state=42)"
   ]
  },
  {
   "cell_type": "code",
   "execution_count": 46,
   "id": "a09b2805",
   "metadata": {},
   "outputs": [
    {
     "data": {
      "text/plain": [
       "RandomForestClassifier(max_depth=4, random_state=42)"
      ]
     },
     "execution_count": 46,
     "metadata": {},
     "output_type": "execute_result"
    }
   ],
   "source": [
    "clf_rf.fit(X_train, y_train)"
   ]
  },
  {
   "cell_type": "code",
   "execution_count": 47,
   "id": "38c73b79",
   "metadata": {},
   "outputs": [],
   "source": [
    "# check training accuracy to test for overfitting"
   ]
  },
  {
   "cell_type": "code",
   "execution_count": 48,
   "id": "78fb7dd8",
   "metadata": {},
   "outputs": [],
   "source": [
    "y_training_pred = clf_rf.predict(X_train)"
   ]
  },
  {
   "cell_type": "code",
   "execution_count": 49,
   "id": "8809f010",
   "metadata": {},
   "outputs": [
    {
     "data": {
      "text/plain": [
       "0.9754601226993865"
      ]
     },
     "execution_count": 49,
     "metadata": {},
     "output_type": "execute_result"
    }
   ],
   "source": [
    "accuracy_score(y_train, y_training_pred)"
   ]
  },
  {
   "cell_type": "code",
   "execution_count": 50,
   "id": "b47084ad",
   "metadata": {},
   "outputs": [],
   "source": [
    "y_pred_rf = clf_rf.predict(X_test)"
   ]
  },
  {
   "cell_type": "code",
   "execution_count": 51,
   "id": "4c5c0fbe",
   "metadata": {},
   "outputs": [
    {
     "data": {
      "text/plain": [
       "0.9541284403669725"
      ]
     },
     "execution_count": 51,
     "metadata": {},
     "output_type": "execute_result"
    }
   ],
   "source": [
    "accuracy_score(y_test, y_pred_rf)"
   ]
  },
  {
   "cell_type": "markdown",
   "id": "7bdface5",
   "metadata": {},
   "source": [
    "Both training and test performed well; no evidence of overfitting"
   ]
  },
  {
   "cell_type": "code",
   "execution_count": 52,
   "id": "59596ffd",
   "metadata": {},
   "outputs": [
    {
     "data": {
      "text/plain": [
       "array([[66,  3],\n",
       "       [ 2, 38]], dtype=int64)"
      ]
     },
     "execution_count": 52,
     "metadata": {},
     "output_type": "execute_result"
    }
   ],
   "source": [
    "confusion_matrix(y_test, y_pred_rf)"
   ]
  },
  {
   "cell_type": "code",
   "execution_count": 53,
   "id": "bf1b4867",
   "metadata": {},
   "outputs": [],
   "source": [
    "# tune hyperparameters"
   ]
  },
  {
   "cell_type": "code",
   "execution_count": 54,
   "id": "461965e4",
   "metadata": {},
   "outputs": [
    {
     "data": {
      "text/plain": [
       "{'bootstrap': True,\n",
       " 'ccp_alpha': 0.0,\n",
       " 'class_weight': None,\n",
       " 'criterion': 'gini',\n",
       " 'max_depth': 4,\n",
       " 'max_features': 'auto',\n",
       " 'max_leaf_nodes': None,\n",
       " 'max_samples': None,\n",
       " 'min_impurity_decrease': 0.0,\n",
       " 'min_samples_leaf': 1,\n",
       " 'min_samples_split': 2,\n",
       " 'min_weight_fraction_leaf': 0.0,\n",
       " 'n_estimators': 100,\n",
       " 'n_jobs': None,\n",
       " 'oob_score': False,\n",
       " 'random_state': 42,\n",
       " 'verbose': 0,\n",
       " 'warm_start': False}"
      ]
     },
     "execution_count": 54,
     "metadata": {},
     "output_type": "execute_result"
    }
   ],
   "source": [
    "clf_rf.get_params()"
   ]
  },
  {
   "cell_type": "code",
   "execution_count": 55,
   "id": "7878bf48",
   "metadata": {},
   "outputs": [],
   "source": [
    "parameters = {'max_depth':[1,2,3,4,5,6], 'n_estimators':[10,50,100,150,200]}"
   ]
  },
  {
   "cell_type": "code",
   "execution_count": 56,
   "id": "d21539a2",
   "metadata": {},
   "outputs": [
    {
     "data": {
      "text/plain": [
       "GridSearchCV(cv=3,\n",
       "             estimator=RandomForestClassifier(max_depth=4, random_state=42),\n",
       "             param_grid={'max_depth': [1, 2, 3, 4, 5, 6],\n",
       "                         'n_estimators': [10, 50, 100, 150, 200]})"
      ]
     },
     "execution_count": 56,
     "metadata": {},
     "output_type": "execute_result"
    }
   ],
   "source": [
    "grid = GridSearchCV(estimator=clf_rf,param_grid=parameters,cv=3)\n",
    "grid.fit(X_train,y_train)"
   ]
  },
  {
   "cell_type": "code",
   "execution_count": 57,
   "id": "870de55c",
   "metadata": {},
   "outputs": [
    {
     "data": {
      "text/plain": [
       "{'max_depth': 3, 'n_estimators': 50}"
      ]
     },
     "execution_count": 57,
     "metadata": {},
     "output_type": "execute_result"
    }
   ],
   "source": [
    "grid.best_params_"
   ]
  },
  {
   "cell_type": "code",
   "execution_count": 58,
   "id": "57d8016f",
   "metadata": {},
   "outputs": [],
   "source": [
    "# run again with tuned hyperparameters"
   ]
  },
  {
   "cell_type": "code",
   "execution_count": 59,
   "id": "fdb9287f",
   "metadata": {},
   "outputs": [],
   "source": [
    "clf_tuned = RandomForestClassifier(max_depth=3, n_estimators = 50, random_state=42)"
   ]
  },
  {
   "cell_type": "code",
   "execution_count": 60,
   "id": "d6566e0b",
   "metadata": {},
   "outputs": [
    {
     "data": {
      "text/plain": [
       "RandomForestClassifier(max_depth=3, n_estimators=50, random_state=42)"
      ]
     },
     "execution_count": 60,
     "metadata": {},
     "output_type": "execute_result"
    }
   ],
   "source": [
    "clf_tuned.fit(X_train,y_train)"
   ]
  },
  {
   "cell_type": "code",
   "execution_count": 61,
   "id": "c2c6cb51",
   "metadata": {},
   "outputs": [],
   "source": [
    "y_tuned_rf = clf_tuned.predict(X_test)"
   ]
  },
  {
   "cell_type": "code",
   "execution_count": 62,
   "id": "1f78fd34",
   "metadata": {},
   "outputs": [],
   "source": [
    "random_forest_results = {}\n",
    "random_forest_results['name']='Random Forest Classification'"
   ]
  },
  {
   "cell_type": "code",
   "execution_count": 63,
   "id": "1c4cddc0",
   "metadata": {},
   "outputs": [
    {
     "data": {
      "text/plain": [
       "0.9541284403669725"
      ]
     },
     "execution_count": 63,
     "metadata": {},
     "output_type": "execute_result"
    }
   ],
   "source": [
    "rf_acc = accuracy_score(y_test, y_tuned_rf)\n",
    "random_forest_results['accuracy']=rf_acc\n",
    "rf_acc"
   ]
  },
  {
   "cell_type": "code",
   "execution_count": 64,
   "id": "1df02499",
   "metadata": {},
   "outputs": [
    {
     "data": {
      "text/plain": [
       "0.926829268292683"
      ]
     },
     "execution_count": 64,
     "metadata": {},
     "output_type": "execute_result"
    }
   ],
   "source": [
    "rf_pre = precision_score(y_test, y_tuned_rf)\n",
    "random_forest_results['precision']=rf_pre\n",
    "rf_pre"
   ]
  },
  {
   "cell_type": "code",
   "execution_count": 65,
   "id": "4902a944",
   "metadata": {},
   "outputs": [
    {
     "data": {
      "text/plain": [
       "0.95"
      ]
     },
     "execution_count": 65,
     "metadata": {},
     "output_type": "execute_result"
    }
   ],
   "source": [
    "rf_recall = recall_score(y_test, y_tuned_rf)\n",
    "random_forest_results['recall']=rf_recall\n",
    "rf_recall"
   ]
  },
  {
   "cell_type": "code",
   "execution_count": 66,
   "id": "b21598ed",
   "metadata": {},
   "outputs": [
    {
     "data": {
      "text/plain": [
       "0.9382716049382716"
      ]
     },
     "execution_count": 66,
     "metadata": {},
     "output_type": "execute_result"
    }
   ],
   "source": [
    "rf_f1 = f1_score(y_test, y_tuned_rf)\n",
    "random_forest_results['f1_score']=rf_f1\n",
    "rf_f1"
   ]
  },
  {
   "cell_type": "code",
   "execution_count": 67,
   "id": "e763c17c",
   "metadata": {},
   "outputs": [
    {
     "data": {
      "text/plain": [
       "array([[66,  3],\n",
       "       [ 2, 38]], dtype=int64)"
      ]
     },
     "execution_count": 67,
     "metadata": {},
     "output_type": "execute_result"
    }
   ],
   "source": [
    "rf_cm = confusion_matrix(y_test, y_tuned_rf)\n",
    "rf_cm"
   ]
  },
  {
   "cell_type": "markdown",
   "id": "e040bfdf",
   "metadata": {},
   "source": [
    "#### Random Forest Conclusion"
   ]
  },
  {
   "cell_type": "markdown",
   "id": "9feb3822",
   "metadata": {},
   "source": [
    "Tuning the hyperparameters did not increase the accuracy. RandomForest Classifier performed well with an overall accuracy of 95.4% and only 5 misclassified out of 109 samples."
   ]
  },
  {
   "cell_type": "markdown",
   "id": "ffb3b316",
   "metadata": {},
   "source": [
    "#### Logisitic Regression"
   ]
  },
  {
   "cell_type": "code",
   "execution_count": 68,
   "id": "398ca3ad",
   "metadata": {},
   "outputs": [
    {
     "data": {
      "text/plain": [
       "LogisticRegression(random_state=42)"
      ]
     },
     "execution_count": 68,
     "metadata": {},
     "output_type": "execute_result"
    }
   ],
   "source": [
    "clf_lr = LogisticRegression(random_state=42)\n",
    "clf_lr.fit(X_train, y_train)"
   ]
  },
  {
   "cell_type": "code",
   "execution_count": 69,
   "id": "d2519682",
   "metadata": {},
   "outputs": [],
   "source": [
    "y_pred_lr = clf_lr.predict(X_test)"
   ]
  },
  {
   "cell_type": "code",
   "execution_count": 70,
   "id": "43dc677f",
   "metadata": {},
   "outputs": [],
   "source": [
    "# check training predictions for overfitting "
   ]
  },
  {
   "cell_type": "code",
   "execution_count": 71,
   "id": "3393011b",
   "metadata": {},
   "outputs": [],
   "source": [
    "y_training_pred = clf_lr.predict(X_train)"
   ]
  },
  {
   "cell_type": "code",
   "execution_count": 72,
   "id": "c5e678ec",
   "metadata": {},
   "outputs": [
    {
     "data": {
      "text/plain": [
       "0.9754601226993865"
      ]
     },
     "execution_count": 72,
     "metadata": {},
     "output_type": "execute_result"
    }
   ],
   "source": [
    "accuracy_score(y_train, y_training_pred)"
   ]
  },
  {
   "cell_type": "code",
   "execution_count": 73,
   "id": "4dd62211",
   "metadata": {},
   "outputs": [
    {
     "data": {
      "text/plain": [
       "0.9724770642201835"
      ]
     },
     "execution_count": 73,
     "metadata": {},
     "output_type": "execute_result"
    }
   ],
   "source": [
    "accuracy_score(y_test, y_pred_lr)"
   ]
  },
  {
   "cell_type": "markdown",
   "id": "4e676eda",
   "metadata": {},
   "source": [
    "Very similiar accuracy for train / test; no evidence of overfitting"
   ]
  },
  {
   "cell_type": "code",
   "execution_count": 74,
   "id": "9afe4874",
   "metadata": {},
   "outputs": [
    {
     "data": {
      "text/plain": [
       "array([[68,  1],\n",
       "       [ 2, 38]], dtype=int64)"
      ]
     },
     "execution_count": 74,
     "metadata": {},
     "output_type": "execute_result"
    }
   ],
   "source": [
    "confusion_matrix(y_test, y_pred_lr)"
   ]
  },
  {
   "cell_type": "code",
   "execution_count": 75,
   "id": "56b7f6ce",
   "metadata": {},
   "outputs": [],
   "source": [
    "# tune logistic regression hyperparameters"
   ]
  },
  {
   "cell_type": "code",
   "execution_count": 76,
   "id": "868fd704",
   "metadata": {},
   "outputs": [
    {
     "data": {
      "text/plain": [
       "{'C': 1.0,\n",
       " 'class_weight': None,\n",
       " 'dual': False,\n",
       " 'fit_intercept': True,\n",
       " 'intercept_scaling': 1,\n",
       " 'l1_ratio': None,\n",
       " 'max_iter': 100,\n",
       " 'multi_class': 'auto',\n",
       " 'n_jobs': None,\n",
       " 'penalty': 'l2',\n",
       " 'random_state': 42,\n",
       " 'solver': 'lbfgs',\n",
       " 'tol': 0.0001,\n",
       " 'verbose': 0,\n",
       " 'warm_start': False}"
      ]
     },
     "execution_count": 76,
     "metadata": {},
     "output_type": "execute_result"
    }
   ],
   "source": [
    "clf_lr.get_params()"
   ]
  },
  {
   "cell_type": "code",
   "execution_count": 77,
   "id": "1df0b5f6",
   "metadata": {},
   "outputs": [],
   "source": [
    "parameters = {'penalty':('none','l1','l2','elasticnet'), 'solver':('lbfgs','sag','saga','newton-cg'),'max_iter':[10000]}"
   ]
  },
  {
   "cell_type": "markdown",
   "id": "ea36cabd",
   "metadata": {},
   "source": [
    "'max_iter' increased because some models were failing. All combinations that were possible (i.e. some expected errors due to solver/penalty mismatches) converged at max_iter = 10000."
   ]
  },
  {
   "cell_type": "code",
   "execution_count": 78,
   "id": "2f3c2e87",
   "metadata": {},
   "outputs": [
    {
     "name": "stderr",
     "output_type": "stream",
     "text": [
      "C:\\Users\\Gina\\anaconda3\\envs\\DST2\\lib\\site-packages\\sklearn\\model_selection\\_validation.py:372: FitFailedWarning: \n",
      "21 fits failed out of a total of 48.\n",
      "The score on these train-test partitions for these parameters will be set to nan.\n",
      "If these failures are not expected, you can try to debug them by setting error_score='raise'.\n",
      "\n",
      "Below are more details about the failures:\n",
      "--------------------------------------------------------------------------------\n",
      "3 fits failed with the following error:\n",
      "Traceback (most recent call last):\n",
      "  File \"C:\\Users\\Gina\\anaconda3\\envs\\DST2\\lib\\site-packages\\sklearn\\model_selection\\_validation.py\", line 681, in _fit_and_score\n",
      "    estimator.fit(X_train, y_train, **fit_params)\n",
      "  File \"C:\\Users\\Gina\\anaconda3\\envs\\DST2\\lib\\site-packages\\sklearn\\linear_model\\_logistic.py\", line 1461, in fit\n",
      "    solver = _check_solver(self.solver, self.penalty, self.dual)\n",
      "  File \"C:\\Users\\Gina\\anaconda3\\envs\\DST2\\lib\\site-packages\\sklearn\\linear_model\\_logistic.py\", line 447, in _check_solver\n",
      "    raise ValueError(\n",
      "ValueError: Solver lbfgs supports only 'l2' or 'none' penalties, got l1 penalty.\n",
      "\n",
      "--------------------------------------------------------------------------------\n",
      "3 fits failed with the following error:\n",
      "Traceback (most recent call last):\n",
      "  File \"C:\\Users\\Gina\\anaconda3\\envs\\DST2\\lib\\site-packages\\sklearn\\model_selection\\_validation.py\", line 681, in _fit_and_score\n",
      "    estimator.fit(X_train, y_train, **fit_params)\n",
      "  File \"C:\\Users\\Gina\\anaconda3\\envs\\DST2\\lib\\site-packages\\sklearn\\linear_model\\_logistic.py\", line 1461, in fit\n",
      "    solver = _check_solver(self.solver, self.penalty, self.dual)\n",
      "  File \"C:\\Users\\Gina\\anaconda3\\envs\\DST2\\lib\\site-packages\\sklearn\\linear_model\\_logistic.py\", line 447, in _check_solver\n",
      "    raise ValueError(\n",
      "ValueError: Solver sag supports only 'l2' or 'none' penalties, got l1 penalty.\n",
      "\n",
      "--------------------------------------------------------------------------------\n",
      "3 fits failed with the following error:\n",
      "Traceback (most recent call last):\n",
      "  File \"C:\\Users\\Gina\\anaconda3\\envs\\DST2\\lib\\site-packages\\sklearn\\model_selection\\_validation.py\", line 681, in _fit_and_score\n",
      "    estimator.fit(X_train, y_train, **fit_params)\n",
      "  File \"C:\\Users\\Gina\\anaconda3\\envs\\DST2\\lib\\site-packages\\sklearn\\linear_model\\_logistic.py\", line 1461, in fit\n",
      "    solver = _check_solver(self.solver, self.penalty, self.dual)\n",
      "  File \"C:\\Users\\Gina\\anaconda3\\envs\\DST2\\lib\\site-packages\\sklearn\\linear_model\\_logistic.py\", line 447, in _check_solver\n",
      "    raise ValueError(\n",
      "ValueError: Solver newton-cg supports only 'l2' or 'none' penalties, got l1 penalty.\n",
      "\n",
      "--------------------------------------------------------------------------------\n",
      "3 fits failed with the following error:\n",
      "Traceback (most recent call last):\n",
      "  File \"C:\\Users\\Gina\\anaconda3\\envs\\DST2\\lib\\site-packages\\sklearn\\model_selection\\_validation.py\", line 681, in _fit_and_score\n",
      "    estimator.fit(X_train, y_train, **fit_params)\n",
      "  File \"C:\\Users\\Gina\\anaconda3\\envs\\DST2\\lib\\site-packages\\sklearn\\linear_model\\_logistic.py\", line 1461, in fit\n",
      "    solver = _check_solver(self.solver, self.penalty, self.dual)\n",
      "  File \"C:\\Users\\Gina\\anaconda3\\envs\\DST2\\lib\\site-packages\\sklearn\\linear_model\\_logistic.py\", line 447, in _check_solver\n",
      "    raise ValueError(\n",
      "ValueError: Solver lbfgs supports only 'l2' or 'none' penalties, got elasticnet penalty.\n",
      "\n",
      "--------------------------------------------------------------------------------\n",
      "3 fits failed with the following error:\n",
      "Traceback (most recent call last):\n",
      "  File \"C:\\Users\\Gina\\anaconda3\\envs\\DST2\\lib\\site-packages\\sklearn\\model_selection\\_validation.py\", line 681, in _fit_and_score\n",
      "    estimator.fit(X_train, y_train, **fit_params)\n",
      "  File \"C:\\Users\\Gina\\anaconda3\\envs\\DST2\\lib\\site-packages\\sklearn\\linear_model\\_logistic.py\", line 1461, in fit\n",
      "    solver = _check_solver(self.solver, self.penalty, self.dual)\n",
      "  File \"C:\\Users\\Gina\\anaconda3\\envs\\DST2\\lib\\site-packages\\sklearn\\linear_model\\_logistic.py\", line 447, in _check_solver\n",
      "    raise ValueError(\n",
      "ValueError: Solver sag supports only 'l2' or 'none' penalties, got elasticnet penalty.\n",
      "\n",
      "--------------------------------------------------------------------------------\n",
      "3 fits failed with the following error:\n",
      "Traceback (most recent call last):\n",
      "  File \"C:\\Users\\Gina\\anaconda3\\envs\\DST2\\lib\\site-packages\\sklearn\\model_selection\\_validation.py\", line 681, in _fit_and_score\n",
      "    estimator.fit(X_train, y_train, **fit_params)\n",
      "  File \"C:\\Users\\Gina\\anaconda3\\envs\\DST2\\lib\\site-packages\\sklearn\\linear_model\\_logistic.py\", line 1471, in fit\n",
      "    raise ValueError(\n",
      "ValueError: l1_ratio must be between 0 and 1; got (l1_ratio=None)\n",
      "\n",
      "--------------------------------------------------------------------------------\n",
      "3 fits failed with the following error:\n",
      "Traceback (most recent call last):\n",
      "  File \"C:\\Users\\Gina\\anaconda3\\envs\\DST2\\lib\\site-packages\\sklearn\\model_selection\\_validation.py\", line 681, in _fit_and_score\n",
      "    estimator.fit(X_train, y_train, **fit_params)\n",
      "  File \"C:\\Users\\Gina\\anaconda3\\envs\\DST2\\lib\\site-packages\\sklearn\\linear_model\\_logistic.py\", line 1461, in fit\n",
      "    solver = _check_solver(self.solver, self.penalty, self.dual)\n",
      "  File \"C:\\Users\\Gina\\anaconda3\\envs\\DST2\\lib\\site-packages\\sklearn\\linear_model\\_logistic.py\", line 447, in _check_solver\n",
      "    raise ValueError(\n",
      "ValueError: Solver newton-cg supports only 'l2' or 'none' penalties, got elasticnet penalty.\n",
      "\n",
      "  warnings.warn(some_fits_failed_message, FitFailedWarning)\n",
      "C:\\Users\\Gina\\anaconda3\\envs\\DST2\\lib\\site-packages\\sklearn\\model_selection\\_search.py:969: UserWarning: One or more of the test scores are non-finite: [0.94169781 0.94478423 0.94478423 0.94478423        nan        nan\n",
      " 0.96624759        nan 0.9693057  0.9693057  0.9693057  0.9693057\n",
      "        nan        nan        nan        nan]\n",
      "  warnings.warn(\n"
     ]
    },
    {
     "data": {
      "text/plain": [
       "GridSearchCV(cv=3, estimator=LogisticRegression(random_state=42),\n",
       "             param_grid={'max_iter': [10000],\n",
       "                         'penalty': ('none', 'l1', 'l2', 'elasticnet'),\n",
       "                         'solver': ('lbfgs', 'sag', 'saga', 'newton-cg')})"
      ]
     },
     "execution_count": 78,
     "metadata": {},
     "output_type": "execute_result"
    }
   ],
   "source": [
    "grid = GridSearchCV(estimator=clf_lr,param_grid=parameters,cv=3)\n",
    "grid.fit(X_train,y_train)"
   ]
  },
  {
   "cell_type": "markdown",
   "id": "9be5d171",
   "metadata": {},
   "source": [
    "Errors are expected and due to mismatch between solvers and penalties; not all go together. In such cases, an error will be raised."
   ]
  },
  {
   "cell_type": "code",
   "execution_count": 79,
   "id": "487962e5",
   "metadata": {},
   "outputs": [
    {
     "data": {
      "text/plain": [
       "{'max_iter': 10000, 'penalty': 'l2', 'solver': 'lbfgs'}"
      ]
     },
     "execution_count": 79,
     "metadata": {},
     "output_type": "execute_result"
    }
   ],
   "source": [
    "grid.best_params_"
   ]
  },
  {
   "cell_type": "markdown",
   "id": "7fb6fccb",
   "metadata": {},
   "source": [
    "Best parameters match what was previous run: penalty = 'l2' and solver = 'lbfgs', so no need to re-run."
   ]
  },
  {
   "cell_type": "code",
   "execution_count": 80,
   "id": "6be49fd9",
   "metadata": {},
   "outputs": [],
   "source": [
    "logistic_reg_results = {}\n",
    "logistic_reg_results['name']='Logisitic Regression Classification'"
   ]
  },
  {
   "cell_type": "code",
   "execution_count": 81,
   "id": "fcbb4cac",
   "metadata": {},
   "outputs": [
    {
     "data": {
      "text/plain": [
       "0.9724770642201835"
      ]
     },
     "execution_count": 81,
     "metadata": {},
     "output_type": "execute_result"
    }
   ],
   "source": [
    "lg_acc = accuracy_score(y_test, y_pred_lr)\n",
    "logistic_reg_results['accuracy']=lg_acc\n",
    "lg_acc"
   ]
  },
  {
   "cell_type": "code",
   "execution_count": 82,
   "id": "fe71b872",
   "metadata": {},
   "outputs": [],
   "source": [
    "# check feature importance"
   ]
  },
  {
   "cell_type": "code",
   "execution_count": 83,
   "id": "972db00f",
   "metadata": {},
   "outputs": [
    {
     "data": {
      "text/plain": [
       "array([[-0.08300442, -0.35534625, -1.61664115,  3.43885434,  0.95746129,\n",
       "        -0.23566548,  0.71904515,  0.14381413, -0.90755443,  1.07704252,\n",
       "        -1.54367117,  0.86551037,  0.28060559,  0.70007585, -0.87173718]])"
      ]
     },
     "execution_count": 83,
     "metadata": {},
     "output_type": "execute_result"
    }
   ],
   "source": [
    "clf_lr.coef_"
   ]
  },
  {
   "cell_type": "code",
   "execution_count": 84,
   "id": "2b86702f",
   "metadata": {},
   "outputs": [
    {
     "data": {
      "text/plain": [
       "array(['handicapped_infants', 'water_sharing', 'budget_resolution',\n",
       "       'physician_fee', 'el_salvador_aid', 'religious_schools',\n",
       "       'anti_sat_test', 'aid_nicaraguan', 'mx_missile', 'immigration',\n",
       "       'synfuels_cutback', 'ed_spending', 'superfund_sue', 'crime',\n",
       "       'duty_free_ex'], dtype=object)"
      ]
     },
     "execution_count": 84,
     "metadata": {},
     "output_type": "execute_result"
    }
   ],
   "source": [
    "clf_lr.feature_names_in_"
   ]
  },
  {
   "cell_type": "markdown",
   "id": "aab2bb98",
   "metadata": {},
   "source": [
    "This shows that the 'physician fee' and 'budget resolution' votes were the most influential features. This is not surprising since they were the only mostly 'party line' votes."
   ]
  },
  {
   "cell_type": "code",
   "execution_count": 85,
   "id": "8fd210cd",
   "metadata": {},
   "outputs": [
    {
     "data": {
      "text/plain": [
       "0.9743589743589743"
      ]
     },
     "execution_count": 85,
     "metadata": {},
     "output_type": "execute_result"
    }
   ],
   "source": [
    "lg_pre = precision_score(y_test, y_pred_lr)\n",
    "logistic_reg_results['precision']=lg_pre\n",
    "lg_pre"
   ]
  },
  {
   "cell_type": "code",
   "execution_count": 86,
   "id": "74074a02",
   "metadata": {},
   "outputs": [
    {
     "data": {
      "text/plain": [
       "0.95"
      ]
     },
     "execution_count": 86,
     "metadata": {},
     "output_type": "execute_result"
    }
   ],
   "source": [
    "lg_recall = recall_score(y_test, y_pred_lr)\n",
    "logistic_reg_results['recall']=lg_recall\n",
    "lg_recall"
   ]
  },
  {
   "cell_type": "code",
   "execution_count": 87,
   "id": "27098702",
   "metadata": {},
   "outputs": [
    {
     "data": {
      "text/plain": [
       "0.9620253164556962"
      ]
     },
     "execution_count": 87,
     "metadata": {},
     "output_type": "execute_result"
    }
   ],
   "source": [
    "lg_f1 = f1_score(y_test, y_pred_lr)\n",
    "logistic_reg_results['f1_score']=lg_f1\n",
    "lg_f1"
   ]
  },
  {
   "cell_type": "code",
   "execution_count": 88,
   "id": "9420c192",
   "metadata": {},
   "outputs": [
    {
     "data": {
      "text/plain": [
       "array([[68,  1],\n",
       "       [ 2, 38]], dtype=int64)"
      ]
     },
     "execution_count": 88,
     "metadata": {},
     "output_type": "execute_result"
    }
   ],
   "source": [
    "lg_cm = confusion_matrix(y_test, y_pred_lr)\n",
    "lg_cm"
   ]
  },
  {
   "cell_type": "markdown",
   "id": "d15d320d",
   "metadata": {},
   "source": [
    "#### Logistic Regression Conclusion"
   ]
  },
  {
   "cell_type": "markdown",
   "id": "04c3e7b0",
   "metadata": {},
   "source": [
    "Logistic Regression performed quite well with an accuracy of 97.2% and only 3 misclassified out of 109 samples."
   ]
  },
  {
   "cell_type": "markdown",
   "id": "c6c1afba",
   "metadata": {},
   "source": [
    "#### Support Vector Classification"
   ]
  },
  {
   "cell_type": "code",
   "execution_count": 89,
   "id": "0019a462",
   "metadata": {},
   "outputs": [],
   "source": [
    "clf_svc = SVC(random_state=42)"
   ]
  },
  {
   "cell_type": "code",
   "execution_count": 90,
   "id": "8c6fa73b",
   "metadata": {},
   "outputs": [
    {
     "data": {
      "text/plain": [
       "SVC(random_state=42)"
      ]
     },
     "execution_count": 90,
     "metadata": {},
     "output_type": "execute_result"
    }
   ],
   "source": [
    "clf_svc.fit(X_train, y_train)"
   ]
  },
  {
   "cell_type": "code",
   "execution_count": 91,
   "id": "f7233e1c",
   "metadata": {},
   "outputs": [],
   "source": [
    "y_pred_svc = clf_svc.predict(X_test)"
   ]
  },
  {
   "cell_type": "code",
   "execution_count": 92,
   "id": "8dbef01a",
   "metadata": {},
   "outputs": [
    {
     "data": {
      "text/plain": [
       "0.9541284403669725"
      ]
     },
     "execution_count": 92,
     "metadata": {},
     "output_type": "execute_result"
    }
   ],
   "source": [
    "accuracy_score(y_test, y_pred_svc)"
   ]
  },
  {
   "cell_type": "code",
   "execution_count": 93,
   "id": "0f221f24",
   "metadata": {},
   "outputs": [],
   "source": [
    "# check training accuracy to test for overfitting"
   ]
  },
  {
   "cell_type": "code",
   "execution_count": 94,
   "id": "9186240e",
   "metadata": {},
   "outputs": [],
   "source": [
    "y_training_pred = clf_svc.predict(X_train)"
   ]
  },
  {
   "cell_type": "code",
   "execution_count": 95,
   "id": "33bbfba2",
   "metadata": {},
   "outputs": [
    {
     "data": {
      "text/plain": [
       "0.9815950920245399"
      ]
     },
     "execution_count": 95,
     "metadata": {},
     "output_type": "execute_result"
    }
   ],
   "source": [
    "accuracy_score(y_train, y_training_pred)"
   ]
  },
  {
   "cell_type": "markdown",
   "id": "ea9ce8c5",
   "metadata": {},
   "source": [
    "98% accuracy for training and 95% for test; no evidence of overfitting"
   ]
  },
  {
   "cell_type": "code",
   "execution_count": 96,
   "id": "fe4158ae",
   "metadata": {},
   "outputs": [
    {
     "data": {
      "text/plain": [
       "array([[66,  3],\n",
       "       [ 2, 38]], dtype=int64)"
      ]
     },
     "execution_count": 96,
     "metadata": {},
     "output_type": "execute_result"
    }
   ],
   "source": [
    "confusion_matrix(y_test, y_pred_svc)"
   ]
  },
  {
   "cell_type": "code",
   "execution_count": 97,
   "id": "ee3207ca",
   "metadata": {},
   "outputs": [],
   "source": [
    "# tune hyperparameters"
   ]
  },
  {
   "cell_type": "code",
   "execution_count": 98,
   "id": "a2a30e63",
   "metadata": {},
   "outputs": [
    {
     "data": {
      "text/plain": [
       "{'C': 1.0,\n",
       " 'break_ties': False,\n",
       " 'cache_size': 200,\n",
       " 'class_weight': None,\n",
       " 'coef0': 0.0,\n",
       " 'decision_function_shape': 'ovr',\n",
       " 'degree': 3,\n",
       " 'gamma': 'scale',\n",
       " 'kernel': 'rbf',\n",
       " 'max_iter': -1,\n",
       " 'probability': False,\n",
       " 'random_state': 42,\n",
       " 'shrinking': True,\n",
       " 'tol': 0.001,\n",
       " 'verbose': False}"
      ]
     },
     "execution_count": 98,
     "metadata": {},
     "output_type": "execute_result"
    }
   ],
   "source": [
    "clf_svc.get_params()"
   ]
  },
  {
   "cell_type": "code",
   "execution_count": 99,
   "id": "e8ff923f",
   "metadata": {},
   "outputs": [],
   "source": [
    "parameters = {'kernel':('linear','poly','rbf','sigmoid'),'degree':[1,2,3,4] ,'gamma':('scale','auto')}"
   ]
  },
  {
   "cell_type": "code",
   "execution_count": 100,
   "id": "2b774715",
   "metadata": {
    "scrolled": false
   },
   "outputs": [
    {
     "data": {
      "text/plain": [
       "GridSearchCV(cv=3, estimator=SVC(random_state=42),\n",
       "             param_grid={'degree': [1, 2, 3, 4], 'gamma': ('scale', 'auto'),\n",
       "                         'kernel': ('linear', 'poly', 'rbf', 'sigmoid')})"
      ]
     },
     "execution_count": 100,
     "metadata": {},
     "output_type": "execute_result"
    }
   ],
   "source": [
    "grid = GridSearchCV(estimator=clf_svc,param_grid=parameters,cv=3)\n",
    "grid.fit(X_train,y_train)"
   ]
  },
  {
   "cell_type": "code",
   "execution_count": 101,
   "id": "7193639d",
   "metadata": {},
   "outputs": [
    {
     "data": {
      "text/plain": [
       "{'degree': 1, 'gamma': 'scale', 'kernel': 'linear'}"
      ]
     },
     "execution_count": 101,
     "metadata": {},
     "output_type": "execute_result"
    }
   ],
   "source": [
    "grid.best_params_"
   ]
  },
  {
   "cell_type": "code",
   "execution_count": 102,
   "id": "3338a0f0",
   "metadata": {},
   "outputs": [],
   "source": [
    "svc_tuned = SVC(degree=1, gamma='scale', kernel='linear', random_state=42)"
   ]
  },
  {
   "cell_type": "code",
   "execution_count": 103,
   "id": "0341eaed",
   "metadata": {},
   "outputs": [
    {
     "data": {
      "text/plain": [
       "SVC(degree=1, kernel='linear', random_state=42)"
      ]
     },
     "execution_count": 103,
     "metadata": {},
     "output_type": "execute_result"
    }
   ],
   "source": [
    "svc_tuned.fit(X_train, y_train)"
   ]
  },
  {
   "cell_type": "code",
   "execution_count": 104,
   "id": "c09bb768",
   "metadata": {},
   "outputs": [],
   "source": [
    "y_tuned_svc = svc_tuned.predict(X_test)"
   ]
  },
  {
   "cell_type": "code",
   "execution_count": 105,
   "id": "a7bf4135",
   "metadata": {},
   "outputs": [],
   "source": [
    "SVC_results = {}\n",
    "SVC_results['name']='Support Vector Classification'"
   ]
  },
  {
   "cell_type": "code",
   "execution_count": 106,
   "id": "13f7d54b",
   "metadata": {},
   "outputs": [
    {
     "data": {
      "text/plain": [
       "0.9724770642201835"
      ]
     },
     "execution_count": 106,
     "metadata": {},
     "output_type": "execute_result"
    }
   ],
   "source": [
    "svc_acc = accuracy_score(y_test, y_tuned_svc)\n",
    "SVC_results['accuracy']=svc_acc\n",
    "svc_acc"
   ]
  },
  {
   "cell_type": "code",
   "execution_count": 107,
   "id": "33f67d61",
   "metadata": {},
   "outputs": [
    {
     "data": {
      "text/plain": [
       "0.9512195121951219"
      ]
     },
     "execution_count": 107,
     "metadata": {},
     "output_type": "execute_result"
    }
   ],
   "source": [
    "svc_pre = precision_score(y_test, y_tuned_svc)\n",
    "SVC_results['precision']=svc_pre\n",
    "svc_pre"
   ]
  },
  {
   "cell_type": "code",
   "execution_count": 108,
   "id": "10c17cdb",
   "metadata": {},
   "outputs": [
    {
     "data": {
      "text/plain": [
       "0.975"
      ]
     },
     "execution_count": 108,
     "metadata": {},
     "output_type": "execute_result"
    }
   ],
   "source": [
    "svc_recall = recall_score(y_test, y_tuned_svc)\n",
    "SVC_results['recall']=svc_recall\n",
    "svc_recall"
   ]
  },
  {
   "cell_type": "code",
   "execution_count": 109,
   "id": "5d96ccd7",
   "metadata": {},
   "outputs": [
    {
     "data": {
      "text/plain": [
       "0.9629629629629629"
      ]
     },
     "execution_count": 109,
     "metadata": {},
     "output_type": "execute_result"
    }
   ],
   "source": [
    "svc_f1 = f1_score(y_test, y_tuned_svc)\n",
    "SVC_results['f1_score']=svc_f1\n",
    "svc_f1"
   ]
  },
  {
   "cell_type": "code",
   "execution_count": 110,
   "id": "d3112d21",
   "metadata": {},
   "outputs": [
    {
     "data": {
      "text/plain": [
       "array([[67,  2],\n",
       "       [ 1, 39]], dtype=int64)"
      ]
     },
     "execution_count": 110,
     "metadata": {},
     "output_type": "execute_result"
    }
   ],
   "source": [
    "svc_cm = confusion_matrix(y_test, y_tuned_svc)\n",
    "svc_cm"
   ]
  },
  {
   "cell_type": "markdown",
   "id": "2676db7f",
   "metadata": {},
   "source": [
    "#### Support Vector Classifier Conclusion"
   ]
  },
  {
   "cell_type": "markdown",
   "id": "2825567a",
   "metadata": {},
   "source": [
    "The tuned support vector classifier performed quite well. It had an accuracy of 97.2% and classified only 3 instances incorrectly."
   ]
  },
  {
   "cell_type": "markdown",
   "id": "54150bd8",
   "metadata": {},
   "source": [
    "#### Neural Network Classification"
   ]
  },
  {
   "cell_type": "code",
   "execution_count": 111,
   "id": "3fd9e886",
   "metadata": {},
   "outputs": [],
   "source": [
    "clf_mlp = MLPClassifier(random_state=42,max_iter=500)"
   ]
  },
  {
   "cell_type": "code",
   "execution_count": 112,
   "id": "38ba1c94",
   "metadata": {},
   "outputs": [
    {
     "data": {
      "text/plain": [
       "MLPClassifier(max_iter=500, random_state=42)"
      ]
     },
     "execution_count": 112,
     "metadata": {},
     "output_type": "execute_result"
    }
   ],
   "source": [
    "clf_mlp.fit(X_train, y_train)"
   ]
  },
  {
   "cell_type": "code",
   "execution_count": 113,
   "id": "b12b9f9b",
   "metadata": {},
   "outputs": [],
   "source": [
    "# check training accuracy to test for overfitting"
   ]
  },
  {
   "cell_type": "code",
   "execution_count": 114,
   "id": "66528c12",
   "metadata": {},
   "outputs": [],
   "source": [
    "y_train_pred = clf_mlp.predict(X_train)"
   ]
  },
  {
   "cell_type": "code",
   "execution_count": 115,
   "id": "fa53cfeb",
   "metadata": {},
   "outputs": [
    {
     "data": {
      "text/plain": [
       "0.9938650306748467"
      ]
     },
     "execution_count": 115,
     "metadata": {},
     "output_type": "execute_result"
    }
   ],
   "source": [
    "accuracy_score(y_train_pred, y_train)"
   ]
  },
  {
   "cell_type": "code",
   "execution_count": 116,
   "id": "691a892b",
   "metadata": {},
   "outputs": [],
   "source": [
    "y_pred_mlp = clf_mlp.predict(X_test)"
   ]
  },
  {
   "cell_type": "code",
   "execution_count": 117,
   "id": "58009377",
   "metadata": {},
   "outputs": [
    {
     "data": {
      "text/plain": [
       "0.9908256880733946"
      ]
     },
     "execution_count": 117,
     "metadata": {},
     "output_type": "execute_result"
    }
   ],
   "source": [
    "accuracy_score(y_test,y_pred_mlp)"
   ]
  },
  {
   "cell_type": "code",
   "execution_count": 118,
   "id": "dcd28051",
   "metadata": {},
   "outputs": [],
   "source": [
    "# training set performed slightly better than test; no evidence of overfitting"
   ]
  },
  {
   "cell_type": "code",
   "execution_count": 119,
   "id": "46719ec1",
   "metadata": {},
   "outputs": [
    {
     "data": {
      "text/plain": [
       "array([[69,  0],\n",
       "       [ 1, 39]], dtype=int64)"
      ]
     },
     "execution_count": 119,
     "metadata": {},
     "output_type": "execute_result"
    }
   ],
   "source": [
    "confusion_matrix(y_test,y_pred_mlp)"
   ]
  },
  {
   "cell_type": "code",
   "execution_count": 120,
   "id": "31390faa",
   "metadata": {},
   "outputs": [],
   "source": [
    "# tune Neural Network MLP hyperparameters"
   ]
  },
  {
   "cell_type": "code",
   "execution_count": 121,
   "id": "d43a410f",
   "metadata": {},
   "outputs": [
    {
     "data": {
      "text/plain": [
       "{'activation': 'relu',\n",
       " 'alpha': 0.0001,\n",
       " 'batch_size': 'auto',\n",
       " 'beta_1': 0.9,\n",
       " 'beta_2': 0.999,\n",
       " 'early_stopping': False,\n",
       " 'epsilon': 1e-08,\n",
       " 'hidden_layer_sizes': (100,),\n",
       " 'learning_rate': 'constant',\n",
       " 'learning_rate_init': 0.001,\n",
       " 'max_fun': 15000,\n",
       " 'max_iter': 500,\n",
       " 'momentum': 0.9,\n",
       " 'n_iter_no_change': 10,\n",
       " 'nesterovs_momentum': True,\n",
       " 'power_t': 0.5,\n",
       " 'random_state': 42,\n",
       " 'shuffle': True,\n",
       " 'solver': 'adam',\n",
       " 'tol': 0.0001,\n",
       " 'validation_fraction': 0.1,\n",
       " 'verbose': False,\n",
       " 'warm_start': False}"
      ]
     },
     "execution_count": 121,
     "metadata": {},
     "output_type": "execute_result"
    }
   ],
   "source": [
    "clf_mlp.get_params()"
   ]
  },
  {
   "cell_type": "code",
   "execution_count": 122,
   "id": "6b311705",
   "metadata": {},
   "outputs": [],
   "source": [
    "parameters = {'activation':('identity','logistic','tanh','relu'), 'alpha':[0.0001, 0.001, 0.01, 0.1],'random_state':[42], \\\n",
    "              'solver':('lbfgs','sgd','adam'),'max_iter':[10000]}"
   ]
  },
  {
   "cell_type": "code",
   "execution_count": 123,
   "id": "1fb10a8e",
   "metadata": {},
   "outputs": [
    {
     "data": {
      "text/plain": [
       "GridSearchCV(cv=3, estimator=MLPClassifier(max_iter=500, random_state=42),\n",
       "             param_grid={'activation': ('identity', 'logistic', 'tanh', 'relu'),\n",
       "                         'alpha': [0.0001, 0.001, 0.01, 0.1],\n",
       "                         'max_iter': [10000], 'random_state': [42],\n",
       "                         'solver': ('lbfgs', 'sgd', 'adam')})"
      ]
     },
     "execution_count": 123,
     "metadata": {},
     "output_type": "execute_result"
    }
   ],
   "source": [
    "grid = GridSearchCV(estimator=clf_mlp,param_grid=parameters,cv=3)\n",
    "grid.fit(X_train,y_train)"
   ]
  },
  {
   "cell_type": "code",
   "execution_count": 124,
   "id": "7d23d54d",
   "metadata": {},
   "outputs": [
    {
     "data": {
      "text/plain": [
       "{'activation': 'identity',\n",
       " 'alpha': 0.0001,\n",
       " 'max_iter': 10000,\n",
       " 'random_state': 42,\n",
       " 'solver': 'adam'}"
      ]
     },
     "execution_count": 124,
     "metadata": {},
     "output_type": "execute_result"
    }
   ],
   "source": [
    "grid.best_params_"
   ]
  },
  {
   "cell_type": "code",
   "execution_count": 125,
   "id": "475a510c",
   "metadata": {},
   "outputs": [],
   "source": [
    "mlp_tuned = MLPClassifier(activation='identity',alpha=0.0001,solver='adam',random_state=42,max_iter=10000)"
   ]
  },
  {
   "cell_type": "code",
   "execution_count": 126,
   "id": "e43127bc",
   "metadata": {},
   "outputs": [
    {
     "data": {
      "text/plain": [
       "MLPClassifier(activation='identity', max_iter=10000, random_state=42)"
      ]
     },
     "execution_count": 126,
     "metadata": {},
     "output_type": "execute_result"
    }
   ],
   "source": [
    "mlp_tuned.fit(X_train, y_train)"
   ]
  },
  {
   "cell_type": "code",
   "execution_count": 127,
   "id": "637c8487",
   "metadata": {},
   "outputs": [],
   "source": [
    "y_tuned_mlp = mlp_tuned.predict(X_test)"
   ]
  },
  {
   "cell_type": "code",
   "execution_count": 128,
   "id": "83f49f22",
   "metadata": {},
   "outputs": [],
   "source": [
    "nn_results = {}\n",
    "nn_results['name']='Neural Network Classification'"
   ]
  },
  {
   "cell_type": "code",
   "execution_count": 129,
   "id": "f2e14caf",
   "metadata": {},
   "outputs": [
    {
     "data": {
      "text/plain": [
       "0.981651376146789"
      ]
     },
     "execution_count": 129,
     "metadata": {},
     "output_type": "execute_result"
    }
   ],
   "source": [
    "nn_acc = accuracy_score(y_test, y_tuned_mlp)\n",
    "nn_results['accuracy']=nn_acc\n",
    "nn_acc"
   ]
  },
  {
   "cell_type": "code",
   "execution_count": 130,
   "id": "cf5121e5",
   "metadata": {},
   "outputs": [
    {
     "data": {
      "text/plain": [
       "0.975"
      ]
     },
     "execution_count": 130,
     "metadata": {},
     "output_type": "execute_result"
    }
   ],
   "source": [
    "nn_pre = precision_score(y_test, y_tuned_mlp)\n",
    "nn_results['precision']=nn_pre\n",
    "nn_pre"
   ]
  },
  {
   "cell_type": "code",
   "execution_count": 131,
   "id": "42e05ada",
   "metadata": {},
   "outputs": [
    {
     "data": {
      "text/plain": [
       "0.975"
      ]
     },
     "execution_count": 131,
     "metadata": {},
     "output_type": "execute_result"
    }
   ],
   "source": [
    "nn_recall = recall_score(y_test, y_tuned_mlp)\n",
    "nn_results['recall']=nn_recall\n",
    "nn_recall"
   ]
  },
  {
   "cell_type": "code",
   "execution_count": 132,
   "id": "73926abf",
   "metadata": {},
   "outputs": [
    {
     "data": {
      "text/plain": [
       "0.975"
      ]
     },
     "execution_count": 132,
     "metadata": {},
     "output_type": "execute_result"
    }
   ],
   "source": [
    "nn_f1 = f1_score(y_test, y_tuned_mlp)\n",
    "nn_results['f1_score']=nn_f1\n",
    "nn_f1"
   ]
  },
  {
   "cell_type": "code",
   "execution_count": 133,
   "id": "d3768b05",
   "metadata": {},
   "outputs": [
    {
     "data": {
      "text/plain": [
       "array([[68,  1],\n",
       "       [ 1, 39]], dtype=int64)"
      ]
     },
     "execution_count": 133,
     "metadata": {},
     "output_type": "execute_result"
    }
   ],
   "source": [
    "nn_cm = confusion_matrix(y_test, y_tuned_mlp)\n",
    "nn_cm"
   ]
  },
  {
   "cell_type": "markdown",
   "id": "1a91ad58",
   "metadata": {},
   "source": [
    "#### Neural Network MLP Classification Conclusion"
   ]
  },
  {
   "cell_type": "markdown",
   "id": "53efe164",
   "metadata": {},
   "source": [
    "The tuned neural network MLP classifier also performed well. It had an accuracy of 98.2% and classified only 2 instances incorrectly."
   ]
  },
  {
   "cell_type": "markdown",
   "id": "0ea87dbe",
   "metadata": {},
   "source": [
    "#### XGBoost Classification"
   ]
  },
  {
   "cell_type": "code",
   "execution_count": 134,
   "id": "37a917ad",
   "metadata": {},
   "outputs": [],
   "source": [
    "clf_xgb = XGBClassifier(random_state=42,use_label_encoder=False,eval_metric='mlogloss') # This function is XGBoost in a sklearn wrapper "
   ]
  },
  {
   "cell_type": "code",
   "execution_count": 135,
   "id": "d3765b7d",
   "metadata": {},
   "outputs": [],
   "source": [
    "model_xgb = clf_xgb.fit(X_train,y_train)"
   ]
  },
  {
   "cell_type": "code",
   "execution_count": 136,
   "id": "5b9fc05a",
   "metadata": {},
   "outputs": [],
   "source": [
    "y_pred_xgb = clf_xgb.predict(X_test)"
   ]
  },
  {
   "cell_type": "code",
   "execution_count": 137,
   "id": "d94356f1",
   "metadata": {},
   "outputs": [],
   "source": [
    "# check training accuracy to test for overfitting"
   ]
  },
  {
   "cell_type": "code",
   "execution_count": 138,
   "id": "d8dc2033",
   "metadata": {},
   "outputs": [],
   "source": [
    "y_training_pred = clf_xgb.predict(X_train)"
   ]
  },
  {
   "cell_type": "code",
   "execution_count": 139,
   "id": "fc8052e2",
   "metadata": {},
   "outputs": [
    {
     "data": {
      "text/plain": [
       "0.9938650306748467"
      ]
     },
     "execution_count": 139,
     "metadata": {},
     "output_type": "execute_result"
    }
   ],
   "source": [
    "accuracy_score(y_train_pred, y_train)"
   ]
  },
  {
   "cell_type": "code",
   "execution_count": 140,
   "id": "4cef51d4",
   "metadata": {},
   "outputs": [
    {
     "data": {
      "text/plain": [
       "0.981651376146789"
      ]
     },
     "execution_count": 140,
     "metadata": {},
     "output_type": "execute_result"
    }
   ],
   "source": [
    "accuracy_score(y_test,y_pred_xgb)"
   ]
  },
  {
   "cell_type": "code",
   "execution_count": 141,
   "id": "355e84c0",
   "metadata": {},
   "outputs": [],
   "source": [
    "# both show good accuracy scores; no sign of overfitting"
   ]
  },
  {
   "cell_type": "code",
   "execution_count": 142,
   "id": "9eaecbbd",
   "metadata": {},
   "outputs": [
    {
     "data": {
      "text/plain": [
       "array([[67,  2],\n",
       "       [ 0, 40]], dtype=int64)"
      ]
     },
     "execution_count": 142,
     "metadata": {},
     "output_type": "execute_result"
    }
   ],
   "source": [
    "confusion_matrix(y_test,y_pred_xgb)"
   ]
  },
  {
   "cell_type": "code",
   "execution_count": 143,
   "id": "c5ad66ba",
   "metadata": {},
   "outputs": [],
   "source": [
    "# tune XGBoost"
   ]
  },
  {
   "cell_type": "code",
   "execution_count": 144,
   "id": "22985878",
   "metadata": {},
   "outputs": [
    {
     "data": {
      "text/plain": [
       "{'objective': 'binary:logistic',\n",
       " 'use_label_encoder': False,\n",
       " 'base_score': 0.5,\n",
       " 'booster': 'gbtree',\n",
       " 'colsample_bylevel': 1,\n",
       " 'colsample_bynode': 1,\n",
       " 'colsample_bytree': 1,\n",
       " 'enable_categorical': False,\n",
       " 'gamma': 0,\n",
       " 'gpu_id': -1,\n",
       " 'importance_type': None,\n",
       " 'interaction_constraints': '',\n",
       " 'learning_rate': 0.300000012,\n",
       " 'max_delta_step': 0,\n",
       " 'max_depth': 6,\n",
       " 'min_child_weight': 1,\n",
       " 'missing': nan,\n",
       " 'monotone_constraints': '()',\n",
       " 'n_estimators': 100,\n",
       " 'n_jobs': 8,\n",
       " 'num_parallel_tree': 1,\n",
       " 'predictor': 'auto',\n",
       " 'random_state': 42,\n",
       " 'reg_alpha': 0,\n",
       " 'reg_lambda': 1,\n",
       " 'scale_pos_weight': 1,\n",
       " 'subsample': 1,\n",
       " 'tree_method': 'exact',\n",
       " 'validate_parameters': 1,\n",
       " 'verbosity': None,\n",
       " 'eval_metric': 'mlogloss'}"
      ]
     },
     "execution_count": 144,
     "metadata": {},
     "output_type": "execute_result"
    }
   ],
   "source": [
    "clf_xgb.get_params()"
   ]
  },
  {
   "cell_type": "code",
   "execution_count": 145,
   "id": "fde35947",
   "metadata": {},
   "outputs": [],
   "source": [
    "parameters = {'max_depth':[1,2,3,4,5,6],               \n",
    "              'n_estimators':[10,50,100,150,200,250],\n",
    "              'learning_rate':[0.1,0.01,0.001,0.0001],\n",
    "              'random_state':[42]}"
   ]
  },
  {
   "cell_type": "code",
   "execution_count": 146,
   "id": "8616d19c",
   "metadata": {},
   "outputs": [
    {
     "data": {
      "text/plain": [
       "GridSearchCV(cv=3,\n",
       "             estimator=XGBClassifier(base_score=0.5, booster='gbtree',\n",
       "                                     colsample_bylevel=1, colsample_bynode=1,\n",
       "                                     colsample_bytree=1,\n",
       "                                     enable_categorical=False,\n",
       "                                     eval_metric='mlogloss', gamma=0, gpu_id=-1,\n",
       "                                     importance_type=None,\n",
       "                                     interaction_constraints='',\n",
       "                                     learning_rate=0.300000012,\n",
       "                                     max_delta_step=0, max_depth=6,\n",
       "                                     min_child_weight=1, missing=nan,\n",
       "                                     monotone_constrain...\n",
       "                                     n_estimators=100, n_jobs=8,\n",
       "                                     num_parallel_tree=1, predictor='auto',\n",
       "                                     random_state=42, reg_alpha=0, reg_lambda=1,\n",
       "                                     scale_pos_weight=1, subsample=1,\n",
       "                                     tree_method='exact',\n",
       "                                     use_label_encoder=False,\n",
       "                                     validate_parameters=1, verbosity=None),\n",
       "             param_grid={'learning_rate': [0.1, 0.01, 0.001, 0.0001],\n",
       "                         'max_depth': [1, 2, 3, 4, 5, 6],\n",
       "                         'n_estimators': [10, 50, 100, 150, 200, 250],\n",
       "                         'random_state': [42]})"
      ]
     },
     "execution_count": 146,
     "metadata": {},
     "output_type": "execute_result"
    }
   ],
   "source": [
    "grid = GridSearchCV(estimator=clf_xgb,param_grid=parameters,cv=3)\n",
    "grid.fit(X_train,y_train)"
   ]
  },
  {
   "cell_type": "code",
   "execution_count": 147,
   "id": "4cfbd8a9",
   "metadata": {},
   "outputs": [
    {
     "data": {
      "text/plain": [
       "{'learning_rate': 0.1, 'max_depth': 3, 'n_estimators': 50, 'random_state': 42}"
      ]
     },
     "execution_count": 147,
     "metadata": {},
     "output_type": "execute_result"
    }
   ],
   "source": [
    "grid.best_params_"
   ]
  },
  {
   "cell_type": "code",
   "execution_count": 148,
   "id": "03a3dbb2",
   "metadata": {},
   "outputs": [],
   "source": [
    "# run again with tuned hyperparameters"
   ]
  },
  {
   "cell_type": "code",
   "execution_count": 149,
   "id": "6d2e10ae",
   "metadata": {},
   "outputs": [],
   "source": [
    "xgb_tuned = XGBClassifier(learning_rate= 0.1, max_depth=3,n_estimators=50,random_state=42,use_label_encoder=False,eval_metric='mlogloss') # This function is XGBoost in a sklearn wrapper "
   ]
  },
  {
   "cell_type": "code",
   "execution_count": 150,
   "id": "6541daff",
   "metadata": {},
   "outputs": [
    {
     "data": {
      "text/plain": [
       "XGBClassifier(base_score=0.5, booster='gbtree', colsample_bylevel=1,\n",
       "              colsample_bynode=1, colsample_bytree=1, enable_categorical=False,\n",
       "              eval_metric='mlogloss', gamma=0, gpu_id=-1, importance_type=None,\n",
       "              interaction_constraints='', learning_rate=0.1, max_delta_step=0,\n",
       "              max_depth=3, min_child_weight=1, missing=nan,\n",
       "              monotone_constraints='()', n_estimators=50, n_jobs=8,\n",
       "              num_parallel_tree=1, predictor='auto', random_state=42,\n",
       "              reg_alpha=0, reg_lambda=1, scale_pos_weight=1, subsample=1,\n",
       "              tree_method='exact', use_label_encoder=False,\n",
       "              validate_parameters=1, verbosity=None)"
      ]
     },
     "execution_count": 150,
     "metadata": {},
     "output_type": "execute_result"
    }
   ],
   "source": [
    "xgb_tuned.fit(X_train, y_train)"
   ]
  },
  {
   "cell_type": "code",
   "execution_count": 151,
   "id": "2b7ba758",
   "metadata": {},
   "outputs": [],
   "source": [
    "y_tuned_xgb = xgb_tuned.predict(X_test)"
   ]
  },
  {
   "cell_type": "code",
   "execution_count": 152,
   "id": "97302376",
   "metadata": {},
   "outputs": [],
   "source": [
    "xgb_results = {}\n",
    "xgb_results['name']='XGBoost Classification'"
   ]
  },
  {
   "cell_type": "code",
   "execution_count": 153,
   "id": "e5afb005",
   "metadata": {},
   "outputs": [
    {
     "data": {
      "text/plain": [
       "0.9724770642201835"
      ]
     },
     "execution_count": 153,
     "metadata": {},
     "output_type": "execute_result"
    }
   ],
   "source": [
    "xgb_acc = accuracy_score(y_test, y_tuned_xgb)\n",
    "xgb_results['accuracy']=xgb_acc\n",
    "xgb_acc"
   ]
  },
  {
   "cell_type": "code",
   "execution_count": 154,
   "id": "11bd94e4",
   "metadata": {},
   "outputs": [
    {
     "data": {
      "text/plain": [
       "0.9302325581395349"
      ]
     },
     "execution_count": 154,
     "metadata": {},
     "output_type": "execute_result"
    }
   ],
   "source": [
    "xgb_pre = precision_score(y_test, y_tuned_xgb)\n",
    "xgb_results['precision']=xgb_pre\n",
    "xgb_pre"
   ]
  },
  {
   "cell_type": "code",
   "execution_count": 155,
   "id": "d30f7bbf",
   "metadata": {},
   "outputs": [
    {
     "data": {
      "text/plain": [
       "1.0"
      ]
     },
     "execution_count": 155,
     "metadata": {},
     "output_type": "execute_result"
    }
   ],
   "source": [
    "xgb_recall = recall_score(y_test, y_tuned_xgb)\n",
    "xgb_results['recall']=xgb_recall\n",
    "xgb_recall"
   ]
  },
  {
   "cell_type": "code",
   "execution_count": 156,
   "id": "001b5002",
   "metadata": {},
   "outputs": [
    {
     "data": {
      "text/plain": [
       "0.963855421686747"
      ]
     },
     "execution_count": 156,
     "metadata": {},
     "output_type": "execute_result"
    }
   ],
   "source": [
    "xgb_f1 = f1_score(y_test, y_tuned_xgb)\n",
    "xgb_results['f1_score']=xgb_f1\n",
    "xgb_f1"
   ]
  },
  {
   "cell_type": "code",
   "execution_count": 157,
   "id": "c72feda3",
   "metadata": {},
   "outputs": [
    {
     "data": {
      "text/plain": [
       "array([[66,  3],\n",
       "       [ 0, 40]], dtype=int64)"
      ]
     },
     "execution_count": 157,
     "metadata": {},
     "output_type": "execute_result"
    }
   ],
   "source": [
    "xgb_cm = confusion_matrix(y_test, y_tuned_xgb)\n",
    "xgb_cm"
   ]
  },
  {
   "cell_type": "markdown",
   "id": "b08c1d5f",
   "metadata": {},
   "source": [
    "#### XGBoost Classification Conclusion"
   ]
  },
  {
   "cell_type": "markdown",
   "id": "5f29df9b",
   "metadata": {},
   "source": [
    "The tuned XGBoost classifier also performed well. It had an accuracy of 97.2% and classified only 3 instances incorrectly. With the excellent reputation of XGBoost, I was hoping the tuned model would reach 100% accuracy. However, as stated by the No Free Lunch Theorem, there is no way to say which algorithm will perform better on a given set data. "
   ]
  },
  {
   "cell_type": "markdown",
   "id": "62f2d5ea",
   "metadata": {},
   "source": [
    "### Summary"
   ]
  },
  {
   "cell_type": "code",
   "execution_count": 158,
   "id": "fd8cee23",
   "metadata": {},
   "outputs": [],
   "source": [
    "table = PrettyTable()\n",
    "table.field_names = [\"Model\", \"Accuracy\", \"Precision\", \"Recall\", \"F1 Score\"]"
   ]
  },
  {
   "cell_type": "code",
   "execution_count": 159,
   "id": "28f442c9",
   "metadata": {},
   "outputs": [],
   "source": [
    "table.add_row([nn_results['name'], format(nn_results['accuracy'],'.2f'), \\\n",
    "      format(nn_results['precision'], '.2f'), format(nn_results['recall'],'.2f'), format(nn_results['f1_score'],'.2f')])   \n",
    "table.add_row([logistic_reg_results['name'], format(logistic_reg_results['accuracy'],'.2f'), \\\n",
    "      format(logistic_reg_results['precision'], '.2f'), format(logistic_reg_results['recall'],'.2f'), format(logistic_reg_results['f1_score'],'.2f')])   \n",
    "table.add_row([xgb_results['name'], format(xgb_results['accuracy'],'.2f'), \\\n",
    "      format(xgb_results['precision'], '.2f'), format(xgb_results['recall'],'.2f'), format(xgb_results['f1_score'],'.2f')])   \n",
    "table.add_row([SVC_results['name'], format(SVC_results['accuracy'],'.2f'), \\\n",
    "      format(SVC_results['precision'], '.2f'), format(SVC_results['recall'],'.2f'), format(SVC_results['f1_score'],'.2f')])   \n",
    "table.add_row([random_forest_results['name'], format(random_forest_results['accuracy'],'.2f'), \\\n",
    "      format(random_forest_results['precision'], '.2f'), format(random_forest_results['recall'],'.2f'), format(random_forest_results['f1_score'],'.2f')])   "
   ]
  },
  {
   "cell_type": "code",
   "execution_count": 160,
   "id": "6c037809",
   "metadata": {},
   "outputs": [
    {
     "name": "stdout",
     "output_type": "stream",
     "text": [
      "+-------------------------------------+----------+-----------+--------+----------+\n",
      "|                Model                | Accuracy | Precision | Recall | F1 Score |\n",
      "+-------------------------------------+----------+-----------+--------+----------+\n",
      "|    Neural Network Classification    |   0.98   |    0.97   |  0.97  |   0.97   |\n",
      "| Logisitic Regression Classification |   0.97   |    0.97   |  0.95  |   0.96   |\n",
      "|        XGBoost Classification       |   0.97   |    0.93   |  1.00  |   0.96   |\n",
      "|    Support Vector Classification    |   0.97   |    0.95   |  0.97  |   0.96   |\n",
      "|     Random Forest Classification    |   0.95   |    0.93   |  0.95  |   0.94   |\n",
      "+-------------------------------------+----------+-----------+--------+----------+\n"
     ]
    }
   ],
   "source": [
    "print(table)"
   ]
  },
  {
   "cell_type": "code",
   "execution_count": 161,
   "id": "1c112b0d",
   "metadata": {},
   "outputs": [],
   "source": [
    "results_list = [nn_results, logistic_reg_results,xgb_results,SVC_results,random_forest_results]"
   ]
  },
  {
   "cell_type": "code",
   "execution_count": 162,
   "id": "9b753319",
   "metadata": {},
   "outputs": [],
   "source": [
    "results_df = pd.DataFrame(results_list)"
   ]
  },
  {
   "cell_type": "code",
   "execution_count": 163,
   "id": "1952af5a",
   "metadata": {},
   "outputs": [
    {
     "data": {
      "text/html": [
       "<div>\n",
       "<style scoped>\n",
       "    .dataframe tbody tr th:only-of-type {\n",
       "        vertical-align: middle;\n",
       "    }\n",
       "\n",
       "    .dataframe tbody tr th {\n",
       "        vertical-align: top;\n",
       "    }\n",
       "\n",
       "    .dataframe thead th {\n",
       "        text-align: right;\n",
       "    }\n",
       "</style>\n",
       "<table border=\"1\" class=\"dataframe\">\n",
       "  <thead>\n",
       "    <tr style=\"text-align: right;\">\n",
       "      <th></th>\n",
       "      <th>name</th>\n",
       "      <th>accuracy</th>\n",
       "      <th>precision</th>\n",
       "      <th>recall</th>\n",
       "      <th>f1_score</th>\n",
       "    </tr>\n",
       "  </thead>\n",
       "  <tbody>\n",
       "    <tr>\n",
       "      <th>0</th>\n",
       "      <td>Neural Network Classification</td>\n",
       "      <td>0.981651</td>\n",
       "      <td>0.975000</td>\n",
       "      <td>0.975</td>\n",
       "      <td>0.975000</td>\n",
       "    </tr>\n",
       "    <tr>\n",
       "      <th>1</th>\n",
       "      <td>Logisitic Regression Classification</td>\n",
       "      <td>0.972477</td>\n",
       "      <td>0.974359</td>\n",
       "      <td>0.950</td>\n",
       "      <td>0.962025</td>\n",
       "    </tr>\n",
       "    <tr>\n",
       "      <th>2</th>\n",
       "      <td>XGBoost Classification</td>\n",
       "      <td>0.972477</td>\n",
       "      <td>0.930233</td>\n",
       "      <td>1.000</td>\n",
       "      <td>0.963855</td>\n",
       "    </tr>\n",
       "    <tr>\n",
       "      <th>3</th>\n",
       "      <td>Support Vector Classification</td>\n",
       "      <td>0.972477</td>\n",
       "      <td>0.951220</td>\n",
       "      <td>0.975</td>\n",
       "      <td>0.962963</td>\n",
       "    </tr>\n",
       "    <tr>\n",
       "      <th>4</th>\n",
       "      <td>Random Forest Classification</td>\n",
       "      <td>0.954128</td>\n",
       "      <td>0.926829</td>\n",
       "      <td>0.950</td>\n",
       "      <td>0.938272</td>\n",
       "    </tr>\n",
       "  </tbody>\n",
       "</table>\n",
       "</div>"
      ],
      "text/plain": [
       "                                  name  accuracy  precision  recall  f1_score\n",
       "0        Neural Network Classification  0.981651   0.975000   0.975  0.975000\n",
       "1  Logisitic Regression Classification  0.972477   0.974359   0.950  0.962025\n",
       "2               XGBoost Classification  0.972477   0.930233   1.000  0.963855\n",
       "3        Support Vector Classification  0.972477   0.951220   0.975  0.962963\n",
       "4         Random Forest Classification  0.954128   0.926829   0.950  0.938272"
      ]
     },
     "execution_count": 163,
     "metadata": {},
     "output_type": "execute_result"
    }
   ],
   "source": [
    "results_df"
   ]
  },
  {
   "cell_type": "code",
   "execution_count": 164,
   "id": "daa52e05",
   "metadata": {},
   "outputs": [],
   "source": [
    "Color = ['red','green','blue','purple']"
   ]
  },
  {
   "cell_type": "code",
   "execution_count": 165,
   "id": "1a50227b",
   "metadata": {},
   "outputs": [
    {
     "data": {
      "image/png": "[encoded data removed]",
      "text/plain": [
       "<Figure size 1080x720 with 1 Axes>"
      ]
     },
     "metadata": {
      "needs_background": "light"
     },
     "output_type": "display_data"
    }
   ],
   "source": [
    "styles=['o','^','+','x']\n",
    "results_df.plot(x='name',y=['accuracy','recall','precision','f1_score'],xlabel='Algorithm Name', ylabel='Accuracy proportion',\\\n",
    "                                     style=styles, color=Color,ylim = (0.92,1.01),markersize=15,figsize = (15,10));"
   ]
  },
  {
   "cell_type": "markdown",
   "id": "4ce0a567",
   "metadata": {},
   "source": [
    "All models performed well on this data with high accuracy. Neural Network, as implemented with a MultiLayerPerceptron, performed the best. This was somewhat surprising to me, since there were only 435 rows. Neural networks typically shine with large amounts of data. The Logistic Regression and XGBoost also did quite well, with an accuracy of 0.97. XGBoost had lower Precision at 0.93 but a perfect Recall. "
   ]
  },
  {
   "cell_type": "markdown",
   "id": "1367d1c0",
   "metadata": {},
   "source": [
    "In summary, the research question was 'Which supervised learning algorithm most accurately classifies\n",
    "Republicans and Democrats based on voting records?' The result is that while all perform well, Neural Network performed the best."
   ]
  }
 ],
 "metadata": {
  "kernelspec": {
   "display_name": "Python 3 (ipykernel)",
   "language": "python",
   "name": "python3"
  },
  "language_info": {
   "codemirror_mode": {
    "name": "ipython",
    "version": 3
   },
   "file_extension": ".py",
   "mimetype": "text/x-python",
   "name": "python",
   "nbconvert_exporter": "python",
   "pygments_lexer": "ipython3",
   "version": "3.8.10"
  }
 },
 "nbformat": 4,
 "nbformat_minor": 5
}
